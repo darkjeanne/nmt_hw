{
 "cells": [
  {
   "cell_type": "markdown",
   "id": "cadd426f",
   "metadata": {
    "id": "Q2ENKuobJQXp",
    "papermill": {
     "duration": 0.007682,
     "end_time": "2025-07-27T14:11:24.300659",
     "exception": false,
     "start_time": "2025-07-27T14:11:24.292977",
     "status": "completed"
    },
    "tags": []
   },
   "source": [
    "# Giới Thiệu Transformer\n",
    "Sự nổi tiếng của mô hình Transformer thì không cần phải bàn cãi, vì nó chính là nền tảng của rất nhiều mô hình khác mà nổi tiếng nhất là BERT (Bidirectional Encoder Representations from Transformers) một mô hình dùng để học biểu diễn của các từ tốt nhất hiện tại và đã tạo ra một bước ngoặc lớn cho động đồng NLP trong năm 2019. Và chính Google cũng đã áp dụng BERT trong cỗ máy tìm kiếm của họ. Để hiểu BERT, các bạn cần phải nắm rõ về mô hình Transformer.\n",
    "\n",
    "![alt text](https://pbcquoc.github.io/images/transformer/bert.jpg)\n",
    "\n",
    "Ý tưởng chủ đạo của Transformer vẫn là áp dụng cơ thể Attention, những ở mức phức tạp hơn và thật sự là thú vị hơn so với cách được đề xuất trước đó trong một bài báo của tác giả Lương Minh Thắng, một người Việt rất nổi tiếng trong cộng đồng deep learning."
   ]
  },
  {
   "cell_type": "markdown",
   "id": "967767f9",
   "metadata": {
    "id": "rb7MbGxAJnBW",
    "papermill": {
     "duration": 0.006089,
     "end_time": "2025-07-27T14:11:24.313787",
     "exception": false,
     "start_time": "2025-07-27T14:11:24.307698",
     "status": "completed"
    },
    "tags": []
   },
   "source": [
    "## Tổng Quan Mô Hình\n",
    "Để cho dễ cảm nhận được cách mà mô hình hoạt động, mình sẽ trình bày trước toàn bộ kiến trúc mô hình ở mức high-level và sau đó sẽ đi chi tiết từng phần nhỏ cũng như công thức toán của nó.\n",
    "\n",
    "Giống như những mô hình dịch máy khác, kiến trúc tổng quan của mô hình transformer bao gồm 2 phần lớn là encoder và decoder. Encoder dùng để học vector biểu của câu với mong muốn rằng vector này mang thông tin hoàn hảo của câu đó. Decoder thực hiện chức năng chuyển vector biểu diễn kia thành ngôn ngữ đích.\n",
    "\n",
    "Trong ví dụ ở dưới, encoder của mô hình transformer nhận một câu tiếng việt, và encode thành một vector biểu diễn ngữ nghĩa của câu little sun, sau đó mô hình decoder nhận vector biểu diễn này, và dịch nó thành câu tiếng việt mặt trời bé nhỏ\n",
    "\n",
    "![alt text](https://pbcquoc.github.io/images/transformer/overview.jpg)\n",
    "\n",
    "Một trong những ưu điểm của transformer là mô hình này có khả năng xử lý song song cho các từ. Như các bạn thấy, Encoders của mô hình transfomer là một dạng feedforward neural nets, bao gồm nhiều encoder layer khác, mỗi encoder layer này xử lý đồng thời các từ. Trong khi đó, với mô hình LSTM, thì các từ phải được xử lý tuần tự. Ngoài ra, mô hình Transformer còn xử lý câu đầu vào theo 2 hướng mà không cần phải stack thêm một môt hình LSTM nữa như trong kiến trúc Bidirectional LSTM.\n",
    "\n",
    "![alt text](https://pbcquoc.github.io/images/transformer/overview2.jpg)\n",
    "\n",
    "Một cái nhìn vừa tổng quát và chi tiết sẽ giúp ích cho các bạn. Mình sẽ đi vào chi tiết một số phần cực kì quan trọng như sinusoidal position encoding, multi head attention của encoder, còn của decoder thì các bạn thấy được kiến trúc rất giống với của encoder, do đó mình sẽ chỉ đi nhanh qua mà thôi.\n",
    "\n",
    "![](https://pbcquoc.github.io/images/transformer/overview3.jpg)"
   ]
  },
  {
   "cell_type": "code",
   "execution_count": 1,
   "id": "736abf61",
   "metadata": {
    "colab": {
     "base_uri": "https://localhost:8080/"
    },
    "execution": {
     "iopub.execute_input": "2025-07-27T14:11:24.328369Z",
     "iopub.status.busy": "2025-07-27T14:11:24.327627Z",
     "iopub.status.idle": "2025-07-27T14:13:06.037918Z",
     "shell.execute_reply": "2025-07-27T14:13:06.037142Z"
    },
    "id": "RVOKeezWPsSs",
    "outputId": "2162467a-08ba-49c1-8f3b-d73a77ab3f39",
    "papermill": {
     "duration": 101.719461,
     "end_time": "2025-07-27T14:13:06.039322",
     "exception": false,
     "start_time": "2025-07-27T14:11:24.319861",
     "status": "completed"
    },
    "tags": []
   },
   "outputs": [
    {
     "name": "stdout",
     "output_type": "stream",
     "text": [
      "\u001b[2K   \u001b[90m━━━━━━━━━━━━━━━━━━━━━━━━━━━━━━━━━━━━━━━━\u001b[0m \u001b[32m64.2/64.2 kB\u001b[0m \u001b[31m729.7 kB/s\u001b[0m eta \u001b[36m0:00:00\u001b[0m\r\n",
      "\u001b[2K   \u001b[90m━━━━━━━━━━━━━━━━━━━━━━━━━━━━━━━━━━━━━━━━\u001b[0m \u001b[32m363.4/363.4 MB\u001b[0m \u001b[31m4.4 MB/s\u001b[0m eta \u001b[36m0:00:00\u001b[0m\r\n",
      "\u001b[2K   \u001b[90m━━━━━━━━━━━━━━━━━━━━━━━━━━━━━━━━━━━━━━━━\u001b[0m \u001b[32m13.8/13.8 MB\u001b[0m \u001b[31m47.1 MB/s\u001b[0m eta \u001b[36m0:00:00\u001b[0m\r\n",
      "\u001b[2K   \u001b[90m━━━━━━━━━━━━━━━━━━━━━━━━━━━━━━━━━━━━━━━━\u001b[0m \u001b[32m24.6/24.6 MB\u001b[0m \u001b[31m42.8 MB/s\u001b[0m eta \u001b[36m0:00:00\u001b[0m\r\n",
      "\u001b[2K   \u001b[90m━━━━━━━━━━━━━━━━━━━━━━━━━━━━━━━━━━━━━━━━\u001b[0m \u001b[32m883.7/883.7 kB\u001b[0m \u001b[31m42.6 MB/s\u001b[0m eta \u001b[36m0:00:00\u001b[0m\r\n",
      "\u001b[2K   \u001b[90m━━━━━━━━━━━━━━━━━━━━━━━━━━━━━━━━━━━━━━━━\u001b[0m \u001b[32m664.8/664.8 MB\u001b[0m \u001b[31m2.3 MB/s\u001b[0m eta \u001b[36m0:00:00\u001b[0m\r\n",
      "\u001b[2K   \u001b[90m━━━━━━━━━━━━━━━━━━━━━━━━━━━━━━━━━━━━━━━━\u001b[0m \u001b[32m211.5/211.5 MB\u001b[0m \u001b[31m2.3 MB/s\u001b[0m eta \u001b[36m0:00:00\u001b[0m\r\n",
      "\u001b[2K   \u001b[90m━━━━━━━━━━━━━━━━━━━━━━━━━━━━━━━━━━━━━━━━\u001b[0m \u001b[32m56.3/56.3 MB\u001b[0m \u001b[31m23.6 MB/s\u001b[0m eta \u001b[36m0:00:00\u001b[0m\r\n",
      "\u001b[2K   \u001b[90m━━━━━━━━━━━━━━━━━━━━━━━━━━━━━━━━━━━━━━━━\u001b[0m \u001b[32m127.9/127.9 MB\u001b[0m \u001b[31m12.0 MB/s\u001b[0m eta \u001b[36m0:00:00\u001b[0m\r\n",
      "\u001b[2K   \u001b[90m━━━━━━━━━━━━━━━━━━━━━━━━━━━━━━━━━━━━━━━━\u001b[0m \u001b[32m207.5/207.5 MB\u001b[0m \u001b[31m7.7 MB/s\u001b[0m eta \u001b[36m0:00:00\u001b[0m\r\n",
      "\u001b[2K   \u001b[90m━━━━━━━━━━━━━━━━━━━━━━━━━━━━━━━━━━━━━━━━\u001b[0m \u001b[32m21.1/21.1 MB\u001b[0m \u001b[31m41.5 MB/s\u001b[0m eta \u001b[36m0:00:00\u001b[0m\r\n",
      "\u001b[2K   \u001b[90m━━━━━━━━━━━━━━━━━━━━━━━━━━━━━━━━━━━━━━━━\u001b[0m \u001b[32m8.5/8.5 MB\u001b[0m \u001b[31m13.1 MB/s\u001b[0m eta \u001b[36m0:00:00\u001b[0m\r\n",
      "\u001b[2K   \u001b[90m━━━━━━━━━━━━━━━━━━━━━━━━━━━━━━━━━━━━━━━━\u001b[0m \u001b[32m1.3/1.3 MB\u001b[0m \u001b[31m53.6 MB/s\u001b[0m eta \u001b[36m0:00:00\u001b[0m\r\n",
      "\u001b[?25h\u001b[31mDeprecationWarning: The command 'link' is deprecated.\u001b[0m\r\n",
      "\u001b[38;5;3m⚠ As of spaCy v3.0, model symlinks are not supported anymore. You can\r\n",
      "load trained pipeline packages using their full names or from a directory\r\n",
      "path.\u001b[0m\r\n"
     ]
    },
    {
     "name": "stderr",
     "output_type": "stream",
     "text": [
      "[nltk_data] Downloading package wordnet to /usr/share/nltk_data...\n",
      "[nltk_data]   Package wordnet is already up-to-date!\n"
     ]
    },
    {
     "data": {
      "text/plain": [
       "True"
      ]
     },
     "execution_count": 1,
     "metadata": {},
     "output_type": "execute_result"
    }
   ],
   "source": [
    "! pip -q install torchtext==0.6.0\n",
    "! pip -q install pyvi\n",
    "#! pip -q install https://github.com/trungtv/vi_spacy/raw/master/packages/vi_spacy_model-0.2.1/dist/vi_spacy_model-0.2.1.tar.gz\n",
    "! python -m spacy link vi_spacy_model vi_spacy_model\n",
    "\n",
    "import nltk\n",
    "nltk.download('wordnet')"
   ]
  },
  {
   "cell_type": "code",
   "execution_count": 2,
   "id": "fa30dd85",
   "metadata": {
    "execution": {
     "iopub.execute_input": "2025-07-27T14:13:06.116537Z",
     "iopub.status.busy": "2025-07-27T14:13:06.116141Z",
     "iopub.status.idle": "2025-07-27T14:13:07.857257Z",
     "shell.execute_reply": "2025-07-27T14:13:07.856600Z"
    },
    "id": "8gvN64qvNQIS",
    "papermill": {
     "duration": 1.781496,
     "end_time": "2025-07-27T14:13:07.858765",
     "exception": false,
     "start_time": "2025-07-27T14:13:06.077269",
     "status": "completed"
    },
    "tags": []
   },
   "outputs": [],
   "source": [
    "import torch\n",
    "import torch.nn as nn\n",
    "from torch.autograd import Variable\n",
    "import torch.nn.functional as F\n",
    "import numpy as np\n",
    "import os\n",
    "import math"
   ]
  },
  {
   "cell_type": "markdown",
   "id": "8b3c9136",
   "metadata": {
    "id": "MM1dnT0JKkdk",
    "papermill": {
     "duration": 0.037847,
     "end_time": "2025-07-27T14:13:07.982718",
     "exception": false,
     "start_time": "2025-07-27T14:13:07.944871",
     "status": "completed"
    },
    "tags": []
   },
   "source": [
    "# Embedding Layer with Position Encoding\n",
    "Trước khi đi vào mô hình encoder, chúng ta sẽ tìm hiểu cơ chế rất thú vị là Position Encoding dùng để đưa thông tin về vị trí của các từ vào mô hình transformer.\n",
    "\n",
    "Đầu tiên, các từ được biểu diễn bằng một vector sử dụng một ma trận word embedding có số dòng bằng kích thước của tập từ vựng. Sau đó các từ trong câu được tìm kiếm trong ma trận này, và được nối nhau thành các dòng của một ma trận 2 chiều chứa ngữ nghĩa của từng từ riêng biệt. Nhưng như các bạn đã thấy, transformer xử lý các từ song song, do đó, với chỉ word embedding mô hình không thể nào biết được vị trí các từ. Như vậy, chúng ta cần một cơ chế nào đó để đưa thông tin vị trí các từ vào trong vector đầu vào. Đó là lúc positional encoding xuất hiện và giải quyết vấn đề của chúng ta. Tuy nhiên, trước khi giới thiệu cơ chế position encoding của tác giả, các bạn có thể giải quyết vấn đề băng một số cách naive như sau:\n",
    "\n",
    "Biểu diễn vị trí các từ bằng chuỗi các số liên tục từ 0,1,2,3 …, n. Tuy nhiên, chúng ta gặp ngay vấn đề là khi chuỗi dài thì số này có thể khá lớn, và mô hình sẽ gặp khó khăn khi dự đoán những câu có chiều dài lớn hơn tất cả các câu có trong tập huấn luyện. Để giải quyết vấn đề này, các bạn có thể chuẩn hóa lại cho chuỗi số này nằm trong đoạn từ 0-1 bằng cách chia cho n nhưng mà chúng ta sẽ gặp vấn đề khác là khoảng cách giữ 2 từ liên tiếp sẽ phụ thuộc vào chiều dài của chuỗi, và trong một khoản cố định, chúng ta không hình dùng được khoản đó chứa bao nhiêu từ. Điều này có nghĩa là ý nghĩa của position encoding sẽ khác nhau tùy thuộc vào độ dài của câu đó."
   ]
  },
  {
   "cell_type": "code",
   "execution_count": 3,
   "id": "6befda44",
   "metadata": {
    "execution": {
     "iopub.execute_input": "2025-07-27T14:13:08.059133Z",
     "iopub.status.busy": "2025-07-27T14:13:08.058287Z",
     "iopub.status.idle": "2025-07-27T14:13:08.062919Z",
     "shell.execute_reply": "2025-07-27T14:13:08.062161Z"
    },
    "id": "X9da_ZuSNQIW",
    "papermill": {
     "duration": 0.04357,
     "end_time": "2025-07-27T14:13:08.064088",
     "exception": false,
     "start_time": "2025-07-27T14:13:08.020518",
     "status": "completed"
    },
    "tags": []
   },
   "outputs": [],
   "source": [
    "class Embedder(nn.Module):\n",
    "    def __init__(self, vocab_size, d_model):\n",
    "        super().__init__()\n",
    "        self.vocab_size = vocab_size\n",
    "        self.d_model = d_model\n",
    "\n",
    "        self.embed = nn.Embedding(vocab_size, d_model)\n",
    "\n",
    "    def forward(self, x):\n",
    "        return self.embed(x)\n",
    "\n",
    "# Embedder(100, 512)(torch.LongTensor([1,2,3,4])).shape"
   ]
  },
  {
   "cell_type": "markdown",
   "id": "fbfbcc91",
   "metadata": {
    "id": "QGlFpeIQKss-",
    "papermill": {
     "duration": 0.036487,
     "end_time": "2025-07-27T14:13:08.137674",
     "exception": false,
     "start_time": "2025-07-27T14:13:08.101187",
     "status": "completed"
    },
    "tags": []
   },
   "source": [
    "# Phương pháp đề xuất sinusoidal position encoding\n",
    "Phương pháp của tác giả đề xuất không gặp những hạn chế mà chúng ta vừa nêu. Vị trí của các từ được mã hóa bằng một vector có kích thước bằng word embedding và được cộng trực tiếp vào word embedding.\n",
    "\n",
    "![](https://pbcquoc.github.io/images/transformer/embedding.jpg)\n",
    "\n",
    "Cụ thể, tại vị trí chẵn, tác giả sử dụng hàm sin, và với vị trí lẽ tác giả sử dụng hàm cos để tính giá trị tại chiều đó.\n",
    "\n",
    "![alt text](https://github.com/pbcquoc/pbcquoc.github.io/raw/master/images/transformer/pe_formula.png)\n",
    "\n",
    "Trong hình dưới này, mình minh họa cho cách tính position encoding của tác giả. Giả sử chúng ta có word embedding có 6 chiều, thì position encoding cũng có tương ứng là 6 chiều. Mỗi dòng tương ứng với một từ. Giá trị của các vector tại mỗi vị trí được tính toán theo công thức ở hình dưới.\n",
    "\n",
    "![](https://pbcquoc.github.io/images/transformer/pe.png)\n",
    "\n",
    "Lúc này một số bạn sẽ thắc mắc tại sao với cách biểu diện vị trí như tác giả đề xuất lại có thể mã hóa thông tin vị trí của từ? Hãy tưởng tượng bạn có các số từ 0-15. Các bạn có thể thấy rằng bit ngoài cùng bên phải thay đổi nhanh nhất mỗi 1 số, và sau đó là bit bên phải thứ 2, thay đổi mỗi 2 số, tương tự cho các bit khác.\n",
    "\n",
    "![](https://pbcquoc.github.io/images/transformer/pe_intuition.jpg)\n",
    "\n",
    "Trong công thức của tác giả đề xuất, các bạn cũng thấy rằng, hàm sin và cos có dạng đồ thị tần số và tần số này giảm dần ở các chiều lớn dần. Các bạn xem hình dưới, ở chiều 0, giá trị thay đổi liên tục tương ứng với màu sắc thay đổi liên tục, và tần số thay đổi này giảm dần ở các chiều lớn hơn.\n",
    "\n",
    "![](https://pbcquoc.github.io/images/transformer/pe_heatmap.png)\n",
    "\n",
    "Nên chúng ta có thể cảm nhận được việc biểu diễn của tác giả khá tương tự như cách biểu diễn các số nguyên trong hệ nhị phân, cho nên chúng ta có thể biểu diễn được vị trí các từ theo cách như vậy.\n",
    "\n",
    "Chúng ta cũng có thể xem ma trận khoảng cách của các vector biểu diễn vị trí như hình dưới. Rõ ràng, các vector biểu diễn thể hiện được tính chất khoảng cách giữ 2 từ. 2 từ cách càng xa nhau thì khoảng cách càng lớn hơn.\n",
    "\n",
    "![](https://pbcquoc.github.io/images/transformer/pe_distance.png)\n",
    "\n",
    "Ngoài ra, một tính chất của phương pháp tác giả đề xuất là nó cho phép mô hình dễ dàng học được mối quan hệ tương đối giữ các từ. Cụ thể, biểu diễn vị trí của từ t + offset có thể chuyển thành biểu diễn vị trí của từ t bằng một phép biến đổi tuyến tính dựa trên ma trận phép quay.\n",
    "\n",
    "Để dễ hình dung phương pháp của tác giả đề xuất lại hoạt động tốt, các bạn có thể tưởng tượng, hàm sin, và cos, giống như là kim giây và kim phút trên đồng hồ. Với 2 kim này, chúng ta có thể biểu diễn được 3600 vị trí. Và đồng thời có thể hiểu được ngay tại sao biểu diễn của từ t + offset và từ t lại có thể dễ dàng chuyển đổi cho nhau.\n",
    "\n"
   ]
  },
  {
   "cell_type": "code",
   "execution_count": 4,
   "id": "9a0b977f",
   "metadata": {
    "execution": {
     "iopub.execute_input": "2025-07-27T14:13:08.216444Z",
     "iopub.status.busy": "2025-07-27T14:13:08.215830Z",
     "iopub.status.idle": "2025-07-27T14:13:08.222268Z",
     "shell.execute_reply": "2025-07-27T14:13:08.221615Z"
    },
    "id": "rP64KizDNQIa",
    "papermill": {
     "duration": 0.048084,
     "end_time": "2025-07-27T14:13:08.223575",
     "exception": false,
     "start_time": "2025-07-27T14:13:08.175491",
     "status": "completed"
    },
    "tags": []
   },
   "outputs": [],
   "source": [
    "class PositionalEncoder(nn.Module):\n",
    "    def __init__(self, d_model, max_seq_length=200, dropout=0.1):\n",
    "        super().__init__()\n",
    "\n",
    "        self.d_model = d_model\n",
    "        self.dropout = nn.Dropout(dropout)\n",
    "\n",
    "        pe = torch.zeros(max_seq_length, d_model)\n",
    "\n",
    "        # Bảng pe mình vẽ ở trên\n",
    "        for pos in range(max_seq_length):\n",
    "            for i in range(0, d_model, 2):\n",
    "                pe[pos, i] = math.sin(pos/(10000**(2*i/d_model)))\n",
    "                pe[pos, i+1] = math.cos(pos/(10000**((2*i+1)/d_model)))\n",
    "        pe = pe.unsqueeze(0)\n",
    "        self.register_buffer('pe', pe)\n",
    "\n",
    "    def forward(self, x):\n",
    "\n",
    "        x = x*math.sqrt(self.d_model)\n",
    "        seq_length = x.size(1)\n",
    "\n",
    "        pe = Variable(self.pe[:, :seq_length], requires_grad=False)\n",
    "\n",
    "        if x.is_cuda:\n",
    "            pe.cuda()\n",
    "        # cộng embedding vector với pe\n",
    "        x = x + pe\n",
    "        x = self.dropout(x)\n",
    "\n",
    "        return x\n",
    "\n",
    "# PositionalEncoder(512)(torch.rand(5, 30, 512)).shape"
   ]
  },
  {
   "cell_type": "markdown",
   "id": "c67019f5",
   "metadata": {
    "id": "LdEQKhVvNiSz",
    "papermill": {
     "duration": 0.043728,
     "end_time": "2025-07-27T14:13:08.311950",
     "exception": false,
     "start_time": "2025-07-27T14:13:08.268222",
     "status": "completed"
    },
    "tags": []
   },
   "source": [
    "# Encoder\n",
    "Encoder của mô hình transformer có thể bao gồm nhiều encoder layer tượng tự nhau. Mỗi encoder layer của transformer lại bao gồm 2 thành phần chính là multi head attention và feedforward network, ngoài ra còn có cả skip connection và normalization layer.\n",
    "\n",
    "Trong 2 thành phần chính này, các bạn sẽ hứng thú nhiều hơn về multi-head attention vì đó là một layer mới được giới thiệu trong bài báo này, và chính nó tạo nên sự khác biệt giữ mô hình LSTM và mô hình Transformer mà chúng ta đang tìm hiểu.\n",
    "![alt text](https://pbcquoc.github.io/images/transformer/encoder.jpg)\n",
    "\n",
    "Encoder đầu tiên sẽ nhận ma trận biểu diễn của các từ đã được cộng với thông tin vị trí thông qua positional encoding. Sau đó, ma trận này sẽ được xử lý bởi Multi Head Attention. Multi Head Attention thật chất là self-attention, nhưng mà để mô hình có thể có chú ý nhiều pattern khác nhau, tác giả đơn giản là sử dụng nhiều self-attention.\n",
    "\n",
    "## Self Attention Layer\n",
    "Self Attention cho phép mô hình khi mã hóa một từ có thể sử dụng thông tin của những từ liên quan tới nó. Ví dụ khi từ nó được mã hóa, nó sẽ chú ý vào các từ liên quan như là mặt trời. Cơ chế self attention này có ý nghĩa tương tự như cơ chế attention mình đã chia sẻ ở bài trước và những công thức toán học cũng tương ứng với nhau.\n",
    "\n",
    "![alt text](https://pbcquoc.github.io/images/transformer/self_attention.jpg)\n",
    "\n",
    "Bạn có thể tưởng tượng cơ chế self attention giống như cơ chế tìm kiếm. Với một từ cho trước, cơ chế này sẽ cho phép mô hình tìm kiếm trong cách từ còn lại, từ nào “giống” để sau đó thông tin sẽ được mã hóa dựa trên tất cả các từ trên.\n",
    "\n",
    "Đầu tiên, với môi từ chúng ta cần tạo ra 3 vector: query, key, value vector bằng cách nhân ma trận biểu diễn các từ đầu vào với ma trận học tương ứng.\n",
    "\n",
    "* query vector: vector dùng để chứa thông tin của từ được tìm kiếm, so sách. Giống như là câu query của google search.\n",
    "* key vector: vector dùng để biểu diễn thông tin các từ được so sánh với từ cần tìm kiếm ở trên. Ví dụ, như các trang webs mà google sẽ so sánh với từ khóa mà bạn tìm kiếm.\n",
    "* value vector: vector biểu diễn nội dung, ý nghĩa của các từ. Các bạn có thể tượng tượng, nó như là nội dung trang web được hiển thị cho người dùng sau khi tìm kiếm.\n",
    "Để tính tương quan, chúng ta đơn giản chỉ cần tính tích vô hướng dựa các vector query và key. Sau đó dùng hàm softmax để chuẩn hóa chỉ số tương quan trong đoạn 0-1, và cuối cùng, tính trung bình cộng có trọng số giữa các vector values sử dụng chỉ số tương quan mới tính được. Quá dễ !!!\n",
    "\n",
    "![](https://pbcquoc.github.io/images/transformer/self_attention_2.png)\n",
    "\n",
    "Cụ thể hơn, quá trình tính toán attention vector có thể được tóm tắt làm 3 bước như sau:\n",
    "\n",
    "* Bước 1: Tính ma trận query, key, value bằng cách khởi tạo 3 ma trận trọng số query, key, vector. Sau đó nhân input với các ma trận trọng số này để tạo thành 3 ma trận tương ứng.\n",
    "* Bước 2: Tính attention weights. Nhân 2 ma trận key, query vừa được tính ở trên với nhau để với ý nghĩa là so sánh giữ câu query và key để học mối tương quan. Sau đó thì chuẩn hóa về đoạn [0-1] bằng hàm softmax. 1 có nghĩa là câu query giống với key, 0 có nghĩa là không giống.\n",
    "* Bước 3: Tính output. Nhân attention weights với ma trận value. Điều này có nghĩa là chúng ta biểu diễn một từ bằng trung bình có trọng số (attention weights) của ma trận value.\n",
    "\n",
    "![](https://pbcquoc.github.io/images/transformer/attention_vector.jpg)\n",
    "\n",
    "## Multi Head Attention\n",
    "Chúng ta muốn mô hình có thể học nhiều kiểu mối quan hệ giữ các từ với nhau. Với mỗi self-attention, chúng ta học được một kiểu pattern, do đó để có thể mở rộng khả năng này, chúng ta đơn giản là thêm nhiều self-attention. Tức là chúng ta cần nhiều ma trận query, key, value mà thôi. Giờ đây ma trận trọng số key, query, value sẽ có thêm 1 chiều depth nữa.\n",
    "\n",
    "![](https://pbcquoc.github.io/images/transformer/multi_head_attention.jpg)\n",
    "\n",
    "Multi head attention cho phép mô hình chú ý đến đồng thời những pattern dễ quan sát được như sau.\n",
    "\n",
    "* Chú ý đến từ kế trước của một từ\n",
    "* Chú ý đến từ kế sau của một từ\n",
    "* Chú ý đến những từ liên quan của một từ"
   ]
  },
  {
   "cell_type": "code",
   "execution_count": 5,
   "id": "076a406e",
   "metadata": {
    "execution": {
     "iopub.execute_input": "2025-07-27T14:13:08.389312Z",
     "iopub.status.busy": "2025-07-27T14:13:08.388668Z",
     "iopub.status.idle": "2025-07-27T14:13:08.393940Z",
     "shell.execute_reply": "2025-07-27T14:13:08.393346Z"
    },
    "id": "2nJMcGuUNQId",
    "papermill": {
     "duration": 0.045387,
     "end_time": "2025-07-27T14:13:08.395002",
     "exception": false,
     "start_time": "2025-07-27T14:13:08.349615",
     "status": "completed"
    },
    "tags": []
   },
   "outputs": [],
   "source": [
    "def attention(q, k, v, mask=None, dropout=None):\n",
    "    \"\"\"\n",
    "    q: batch_size x head x seq_length x d_model\n",
    "    k: batch_size x head x seq_length x d_model\n",
    "    v: batch_size x head x seq_length x d_model\n",
    "    mask: batch_size x 1 x 1 x seq_length\n",
    "    output: batch_size x head x seq_length x d_model\n",
    "    \"\"\"\n",
    "\n",
    "    # attention score được tính bằng cách nhân q với k\n",
    "    d_k = q.size(-1)\n",
    "    scores = torch.matmul(q, k.transpose(-2, -1))/math.sqrt(d_k)\n",
    "\n",
    "    if mask is not None:\n",
    "        mask = mask.unsqueeze(1)\n",
    "        scores = scores.masked_fill(mask==0, -1e9)\n",
    "    # xong rồi thì chuẩn hóa bằng softmax\n",
    "    scores = F.softmax(scores, dim=-1)\n",
    "\n",
    "    if dropout is not None:\n",
    "        scores = dropout(scores)\n",
    "\n",
    "    output = torch.matmul(scores, v)\n",
    "    return output, scores\n",
    "\n",
    "# attention(torch.rand(32, 8, 30, 512), torch.rand(32, 8, 30, 512), torch.rand(32, 8, 30, 512)).shape"
   ]
  },
  {
   "cell_type": "code",
   "execution_count": 6,
   "id": "cde64957",
   "metadata": {
    "execution": {
     "iopub.execute_input": "2025-07-27T14:13:08.469899Z",
     "iopub.status.busy": "2025-07-27T14:13:08.469414Z",
     "iopub.status.idle": "2025-07-27T14:13:08.476309Z",
     "shell.execute_reply": "2025-07-27T14:13:08.475754Z"
    },
    "id": "ANQ4C3EENQIh",
    "papermill": {
     "duration": 0.045369,
     "end_time": "2025-07-27T14:13:08.477391",
     "exception": false,
     "start_time": "2025-07-27T14:13:08.432022",
     "status": "completed"
    },
    "tags": []
   },
   "outputs": [],
   "source": [
    "class MultiHeadAttention(nn.Module):\n",
    "    def __init__(self, heads, d_model, dropout=0.1):\n",
    "        super().__init__()\n",
    "        assert d_model % heads == 0\n",
    "\n",
    "        self.d_model = d_model\n",
    "        self.d_k = d_model//heads\n",
    "        self.h = heads\n",
    "        self.attn = None\n",
    "\n",
    "        # tạo ra 3 ma trận trọng số là q_linear, k_linear, v_linear như hình trên\n",
    "        self.q_linear = nn.Linear(d_model, d_model)\n",
    "        self.k_linear = nn.Linear(d_model, d_model)\n",
    "        self.v_linear = nn.Linear(d_model, d_model)\n",
    "\n",
    "        self.dropout = nn.Dropout(dropout)\n",
    "        self.out = nn.Linear(d_model, d_model)\n",
    "\n",
    "    def forward(self, q, k, v, mask=None):\n",
    "        \"\"\"\n",
    "        q: batch_size x seq_length x d_model\n",
    "        k: batch_size x seq_length x d_model\n",
    "        v: batch_size x seq_length x d_model\n",
    "        mask: batch_size x 1 x seq_length\n",
    "        output: batch_size x seq_length x d_model\n",
    "        \"\"\"\n",
    "        bs = q.size(0)\n",
    "        # nhân ma trận trọng số q_linear, k_linear, v_linear với dữ liệu đầu vào q, k, v\n",
    "        # ở bước encode các bạn lưu ý rằng q, k, v chỉ là một (xem hình trên)\n",
    "        q = self.q_linear(q).view(bs, -1, self.h, self.d_k)\n",
    "        k = self.k_linear(k).view(bs, -1, self.h, self.d_k)\n",
    "        v = self.v_linear(v).view(bs, -1, self.h, self.d_k)\n",
    "\n",
    "        q = q.transpose(1, 2)\n",
    "        k = k.transpose(1, 2)\n",
    "        v = v.transpose(1, 2)\n",
    "\n",
    "        # tính attention score\n",
    "        scores, self.attn = attention(q, k, v, mask, self.dropout)\n",
    "\n",
    "        concat = scores.transpose(1, 2).contiguous().view(bs, -1, self.d_model)\n",
    "\n",
    "        output = self.out(concat)\n",
    "        return output\n",
    "\n",
    "# MultiHeadAttention(8, 512)(torch.rand(32, 30, 512), torch.rand(32, 30, 512), torch.rand(32, 30, 512)).shape"
   ]
  },
  {
   "cell_type": "markdown",
   "id": "fb0fc271",
   "metadata": {
    "id": "uvOrq4-WPXYK",
    "papermill": {
     "duration": 0.036901,
     "end_time": "2025-07-27T14:13:08.552507",
     "exception": false,
     "start_time": "2025-07-27T14:13:08.515606",
     "status": "completed"
    },
    "tags": []
   },
   "source": [
    "# Residuals Connection và Normalization Layer\n",
    "\n",
    "Trong kiến trúc của mô hình transformer, residuals connection và mormalization layer được sử dụng mọi nơi, giống như tinh thần của nó. 2 kỹ thuật giúp cho mô hình huấn luyện nhanh hội tụ hơn và trách mất mát thông tin trong quá trình huấn luyện mô hình, ví dụ như là thông tin của vị trí các từ được mã hóa.\n",
    "\n"
   ]
  },
  {
   "cell_type": "code",
   "execution_count": 7,
   "id": "bf9905a0",
   "metadata": {
    "execution": {
     "iopub.execute_input": "2025-07-27T14:13:08.626648Z",
     "iopub.status.busy": "2025-07-27T14:13:08.626403Z",
     "iopub.status.idle": "2025-07-27T14:13:08.631205Z",
     "shell.execute_reply": "2025-07-27T14:13:08.630664Z"
    },
    "id": "n6-_9Hq-NQIk",
    "papermill": {
     "duration": 0.043034,
     "end_time": "2025-07-27T14:13:08.632243",
     "exception": false,
     "start_time": "2025-07-27T14:13:08.589209",
     "status": "completed"
    },
    "tags": []
   },
   "outputs": [],
   "source": [
    "class Norm(nn.Module):\n",
    "    def __init__(self, d_model, eps = 1e-6):\n",
    "        super().__init__()\n",
    "\n",
    "        self.size = d_model\n",
    "\n",
    "        # create two learnable parameters to calibrate normalisation\n",
    "        self.alpha = nn.Parameter(torch.ones(self.size))\n",
    "        self.bias = nn.Parameter(torch.zeros(self.size))\n",
    "\n",
    "        self.eps = eps\n",
    "\n",
    "    def forward(self, x):\n",
    "        norm = self.alpha * (x - x.mean(dim=-1, keepdim=True)) \\\n",
    "        / (x.std(dim=-1, keepdim=True) + self.eps) + self.bias\n",
    "        return norm"
   ]
  },
  {
   "cell_type": "code",
   "execution_count": 8,
   "id": "698915f7",
   "metadata": {
    "execution": {
     "iopub.execute_input": "2025-07-27T14:13:08.706859Z",
     "iopub.status.busy": "2025-07-27T14:13:08.706334Z",
     "iopub.status.idle": "2025-07-27T14:13:08.710930Z",
     "shell.execute_reply": "2025-07-27T14:13:08.710405Z"
    },
    "id": "H1ndbdMXNQIn",
    "papermill": {
     "duration": 0.042827,
     "end_time": "2025-07-27T14:13:08.711888",
     "exception": false,
     "start_time": "2025-07-27T14:13:08.669061",
     "status": "completed"
    },
    "tags": []
   },
   "outputs": [],
   "source": [
    "class FeedForward(nn.Module):\n",
    "    \"\"\" Trong kiến trúc của chúng ta có tầng linear\n",
    "    \"\"\"\n",
    "    def __init__(self, d_model, d_ff=2048, dropout = 0.1):\n",
    "        super().__init__()\n",
    "\n",
    "        # We set d_ff as a default to 2048\n",
    "        self.linear_1 = nn.Linear(d_model, d_ff)\n",
    "        self.dropout = nn.Dropout(dropout)\n",
    "        self.linear_2 = nn.Linear(d_ff, d_model)\n",
    "\n",
    "    def forward(self, x):\n",
    "        x = self.dropout(F.relu(self.linear_1(x)))\n",
    "        x = self.linear_2(x)\n",
    "        return x"
   ]
  },
  {
   "cell_type": "code",
   "execution_count": 9,
   "id": "db9547c5",
   "metadata": {
    "execution": {
     "iopub.execute_input": "2025-07-27T14:13:08.787353Z",
     "iopub.status.busy": "2025-07-27T14:13:08.786836Z",
     "iopub.status.idle": "2025-07-27T14:13:08.792225Z",
     "shell.execute_reply": "2025-07-27T14:13:08.791646Z"
    },
    "id": "-Wwo91xDNQIq",
    "papermill": {
     "duration": 0.044766,
     "end_time": "2025-07-27T14:13:08.793409",
     "exception": false,
     "start_time": "2025-07-27T14:13:08.748643",
     "status": "completed"
    },
    "tags": []
   },
   "outputs": [],
   "source": [
    "class EncoderLayer(nn.Module):\n",
    "    def __init__(self, d_model, heads, dropout=0.1):\n",
    "        super().__init__()\n",
    "        self.norm_1 = Norm(d_model)\n",
    "        self.norm_2 = Norm(d_model)\n",
    "        self.attn = MultiHeadAttention(heads, d_model, dropout=dropout)\n",
    "        self.ff = FeedForward(d_model, dropout=dropout)\n",
    "        self.dropout_1 = nn.Dropout(dropout)\n",
    "        self.dropout_2 = nn.Dropout(dropout)\n",
    "\n",
    "    def forward(self, x, mask):\n",
    "        \"\"\"\n",
    "        x: batch_size x seq_length x d_model\n",
    "        mask: batch_size x 1 x seq_length\n",
    "        output: batch_size x seq_length x d_model\n",
    "        \"\"\"\n",
    "\n",
    "\n",
    "        x2 = self.norm_1(x)\n",
    "        # tính attention value, các bạn để ý q, k, v là giống nhau\n",
    "        x = x + self.dropout_1(self.attn(x2,x2,x2,mask))\n",
    "        x2 = self.norm_2(x)\n",
    "        x = x + self.dropout_2(self.ff(x2))\n",
    "        return x\n",
    "\n",
    "# EncoderLayer(512, 8)(torch.rand(32, 30, 512), torch.rand(32 , 1, 30)).shape"
   ]
  },
  {
   "cell_type": "markdown",
   "id": "5804eab8",
   "metadata": {
    "id": "48SiXL_zQQ9C",
    "papermill": {
     "duration": 0.03641,
     "end_time": "2025-07-27T14:13:08.866783",
     "exception": false,
     "start_time": "2025-07-27T14:13:08.830373",
     "status": "completed"
    },
    "tags": []
   },
   "source": [
    "# Decoder\n",
    "Decoder thực hiện chức năng giải mã vector của câu nguồn thành câu đích, do đó decoder sẽ nhận thông tin từ encoder là 2 vector key và value. Kiến trúc của decoder rất giống với encoder, ngoại trừ có thêm một multi head attention nằm ở giữ dùng để học mối liên quan giữ từ đang được dịch với các từ được ở câu nguồn.\n",
    "\n",
    "![alt text](https://pbcquoc.github.io/images/transformer/decoder.jpg)\n",
    "\n",
    "## Masked Multi Head Attention\n",
    "Masked Multi Head Attention tất nhiên là multi head attention mà chúng ta đã nói đến ở trên, có chức năng dùng đề encode các từ câu câu đích trong quá trình dịch, tuy nhiên, lúc cài đặt chúng ta cần lưu ý rằng phải che đi các từ ở tương lai chưa được mô hình dịch đến, để làm việc này thì đơn giản là chúng ta chỉ cần nhân với một vector chứa các giá trị 0,1.\n",
    "\n",
    "Trong decoder còn có một multi head attention khác có chức năng chú ý các từ ở mô hình encoder, layer này nhận vector key và value từ mô hình encoder, và output từ layer phía dưới. Đơn giản bởi vì chúng ta muốn so sánh sự tương quan giữ từ đang được dịch vời các từ nguồn."
   ]
  },
  {
   "cell_type": "code",
   "execution_count": 10,
   "id": "033a81c1",
   "metadata": {
    "execution": {
     "iopub.execute_input": "2025-07-27T14:13:08.941396Z",
     "iopub.status.busy": "2025-07-27T14:13:08.940837Z",
     "iopub.status.idle": "2025-07-27T14:13:08.946767Z",
     "shell.execute_reply": "2025-07-27T14:13:08.946318Z"
    },
    "id": "6mDt2NPeNQIu",
    "papermill": {
     "duration": 0.044578,
     "end_time": "2025-07-27T14:13:08.947890",
     "exception": false,
     "start_time": "2025-07-27T14:13:08.903312",
     "status": "completed"
    },
    "tags": []
   },
   "outputs": [],
   "source": [
    "class DecoderLayer(nn.Module):\n",
    "    def __init__(self, d_model, heads, dropout=0.1):\n",
    "        super().__init__()\n",
    "        self.norm_1 = Norm(d_model)\n",
    "        self.norm_2 = Norm(d_model)\n",
    "        self.norm_3 = Norm(d_model)\n",
    "\n",
    "        self.dropout_1 = nn.Dropout(dropout)\n",
    "        self.dropout_2 = nn.Dropout(dropout)\n",
    "        self.dropout_3 = nn.Dropout(dropout)\n",
    "\n",
    "        self.attn_1 = MultiHeadAttention(heads, d_model, dropout=dropout)\n",
    "        self.attn_2 = MultiHeadAttention(heads, d_model, dropout=dropout)\n",
    "        self.ff = FeedForward(d_model, dropout=dropout)\n",
    "\n",
    "    def forward(self, x, e_outputs, src_mask, trg_mask):\n",
    "        \"\"\"\n",
    "        x: batch_size x seq_length x d_model\n",
    "        e_outputs: batch_size x seq_length x d_model\n",
    "        src_mask: batch_size x 1 x seq_length\n",
    "        trg_mask: batch_size x 1 x seq_length\n",
    "        \"\"\"\n",
    "        # Các bạn xem hình trên, kiến trúc mình vẽ với code ở chỗ này tương đương nhau.\n",
    "        x2 = self.norm_1(x)\n",
    "        # multihead attention thứ nhất, chú ý các từ ở target\n",
    "        x = x + self.dropout_1(self.attn_1(x2, x2, x2, trg_mask))\n",
    "        x2 = self.norm_2(x)\n",
    "        # masked mulithead attention thứ 2. k, v là giá trị output của mô hình encoder\n",
    "        x = x + self.dropout_2(self.attn_2(x2, e_outputs, e_outputs, src_mask))\n",
    "        x2 = self.norm_3(x)\n",
    "        x = x + self.dropout_3(self.ff(x2))\n",
    "        return x\n",
    "\n",
    "# DecoderLayer(512, 8)(torch.rand(32, 30, 512), torch.rand(32, 30, 512), torch.rand(32, 1, 30), torch.rand(32, 1, 30)).shape"
   ]
  },
  {
   "cell_type": "markdown",
   "id": "13277d86",
   "metadata": {
    "id": "lk1c6NkYIeG8",
    "papermill": {
     "duration": 0.03729,
     "end_time": "2025-07-27T14:13:09.022265",
     "exception": false,
     "start_time": "2025-07-27T14:13:08.984975",
     "status": "completed"
    },
    "tags": []
   },
   "source": [
    "# Cài đặt Encoder\n",
    "bao gồm N encoder layer"
   ]
  },
  {
   "cell_type": "code",
   "execution_count": 11,
   "id": "12bd1fea",
   "metadata": {
    "execution": {
     "iopub.execute_input": "2025-07-27T14:13:09.097727Z",
     "iopub.status.busy": "2025-07-27T14:13:09.097139Z",
     "iopub.status.idle": "2025-07-27T14:13:09.103001Z",
     "shell.execute_reply": "2025-07-27T14:13:09.102471Z"
    },
    "id": "ZcU8nyvzNQIx",
    "papermill": {
     "duration": 0.044876,
     "end_time": "2025-07-27T14:13:09.104019",
     "exception": false,
     "start_time": "2025-07-27T14:13:09.059143",
     "status": "completed"
    },
    "tags": []
   },
   "outputs": [],
   "source": [
    "import copy\n",
    "\n",
    "def get_clones(module, N):\n",
    "    return nn.ModuleList([copy.deepcopy(module) for i in range(N)])\n",
    "\n",
    "class Encoder(nn.Module):\n",
    "    \"\"\"Một encoder có nhiều encoder layer nhé !!!\n",
    "    \"\"\"\n",
    "    def __init__(self, vocab_size, d_model, N, heads, dropout):\n",
    "        super().__init__()\n",
    "        self.N = N\n",
    "        self.embed = Embedder(vocab_size, d_model)\n",
    "        self.pe = PositionalEncoder(d_model, dropout=dropout)\n",
    "        self.layers = get_clones(EncoderLayer(d_model, heads, dropout), N)\n",
    "        self.norm = Norm(d_model)\n",
    "\n",
    "    def forward(self, src, mask):\n",
    "        \"\"\"\n",
    "        src: batch_size x seq_length\n",
    "        mask: batch_size x 1 x seq_length\n",
    "        output: batch_size x seq_length x d_model\n",
    "        \"\"\"\n",
    "        x = self.embed(src)\n",
    "        x = self.pe(x)\n",
    "        for i in range(self.N):\n",
    "            x = self.layers[i](x, mask)\n",
    "        return self.norm(x)\n",
    "\n",
    "# Encoder(232, 512,6,8,0.1)(torch.LongTensor(32, 30).random_(0, 10), torch.rand(32, 1, 30)).shape"
   ]
  },
  {
   "cell_type": "markdown",
   "id": "9ee02e7f",
   "metadata": {
    "id": "Qip-E_TAIpmJ",
    "papermill": {
     "duration": 0.03759,
     "end_time": "2025-07-27T14:13:09.179455",
     "exception": false,
     "start_time": "2025-07-27T14:13:09.141865",
     "status": "completed"
    },
    "tags": []
   },
   "source": [
    "# Cài đặt Decoder\n",
    "bao gồm N decoder layers"
   ]
  },
  {
   "cell_type": "code",
   "execution_count": 12,
   "id": "0e76046b",
   "metadata": {
    "execution": {
     "iopub.execute_input": "2025-07-27T14:13:09.257077Z",
     "iopub.status.busy": "2025-07-27T14:13:09.256426Z",
     "iopub.status.idle": "2025-07-27T14:13:09.261791Z",
     "shell.execute_reply": "2025-07-27T14:13:09.261219Z"
    },
    "id": "5lBRYMg_NQI0",
    "papermill": {
     "duration": 0.045609,
     "end_time": "2025-07-27T14:13:09.262899",
     "exception": false,
     "start_time": "2025-07-27T14:13:09.217290",
     "status": "completed"
    },
    "tags": []
   },
   "outputs": [],
   "source": [
    "class Decoder(nn.Module):\n",
    "    \"\"\"Một decoder có nhiều decoder layer nhé !!!\n",
    "    \"\"\"\n",
    "    def __init__(self, vocab_size, d_model, N, heads, dropout):\n",
    "        super().__init__()\n",
    "        self.N = N\n",
    "        self.embed = Embedder(vocab_size, d_model)\n",
    "        self.pe = PositionalEncoder(d_model, dropout=dropout)\n",
    "        self.layers = get_clones(DecoderLayer(d_model, heads, dropout), N)\n",
    "        self.norm = Norm(d_model)\n",
    "    def forward(self, trg, e_outputs, src_mask, trg_mask):\n",
    "        \"\"\"\n",
    "        trg: batch_size x seq_length\n",
    "        e_outputs: batch_size x seq_length x d_model\n",
    "        src_mask: batch_size x 1 x seq_length\n",
    "        trg_mask: batch_size x 1 x seq_length\n",
    "        output: batch_size x seq_length x d_model\n",
    "        \"\"\"\n",
    "        x = self.embed(trg)\n",
    "        x = self.pe(x)\n",
    "        for i in range(self.N):\n",
    "            x = self.layers[i](x, e_outputs, src_mask, trg_mask)\n",
    "        return self.norm(x)\n",
    "\n",
    "# Decoder(232, 512, 6, 8, 0.1)(torch.LongTensor(32, 30).random_(0, 10), torch.rand(32, 30, 512), torch.rand(32, 1, 30), torch.rand(32, 1, 30)).shape"
   ]
  },
  {
   "cell_type": "markdown",
   "id": "7557b36e",
   "metadata": {
    "id": "gDVQGAaMI5UU",
    "papermill": {
     "duration": 0.038579,
     "end_time": "2025-07-27T14:13:09.339669",
     "exception": false,
     "start_time": "2025-07-27T14:13:09.301090",
     "status": "completed"
    },
    "tags": []
   },
   "source": [
    "# Cài đặt Transformer\n",
    "bao gồm encoder và decoder"
   ]
  },
  {
   "cell_type": "code",
   "execution_count": 13,
   "id": "ec8bd2f3",
   "metadata": {
    "execution": {
     "iopub.execute_input": "2025-07-27T14:13:09.417538Z",
     "iopub.status.busy": "2025-07-27T14:13:09.416840Z",
     "iopub.status.idle": "2025-07-27T14:13:09.422052Z",
     "shell.execute_reply": "2025-07-27T14:13:09.421501Z"
    },
    "id": "DpxSCRILNQI3",
    "papermill": {
     "duration": 0.046245,
     "end_time": "2025-07-27T14:13:09.423067",
     "exception": false,
     "start_time": "2025-07-27T14:13:09.376822",
     "status": "completed"
    },
    "tags": []
   },
   "outputs": [],
   "source": [
    "class Transformer(nn.Module):\n",
    "    \"\"\" Cuối cùng ghép chúng lại với nhau để được mô hình transformer hoàn chỉnh\n",
    "    \"\"\"\n",
    "    def __init__(self, src_vocab, trg_vocab, d_model, N, heads, dropout):\n",
    "        super().__init__()\n",
    "        self.encoder = Encoder(src_vocab, d_model, N, heads, dropout)\n",
    "        self.decoder = Decoder(trg_vocab, d_model, N, heads, dropout)\n",
    "        self.out = nn.Linear(d_model, trg_vocab)\n",
    "    def forward(self, src, trg, src_mask, trg_mask):\n",
    "        \"\"\"\n",
    "        src: batch_size x seq_length\n",
    "        trg: batch_size x seq_length\n",
    "        src_mask: batch_size x 1 x seq_length\n",
    "        trg_mask batch_size x 1 x seq_length\n",
    "        output: batch_size x seq_length x vocab_size\n",
    "        \"\"\"\n",
    "        e_outputs = self.encoder(src, src_mask)\n",
    "\n",
    "        d_output = self.decoder(trg, e_outputs, src_mask, trg_mask)\n",
    "        output = self.out(d_output)\n",
    "        return output\n",
    "\n",
    "# Transformer(232, 232, 512, 6, 8, 0.1)(torch.LongTensor(32, 30).random_(0, 10), torch.LongTensor(32, 30).random_(0, 10),torch.rand(32, 1, 30),torch.rand(32, 1, 30)).shape"
   ]
  },
  {
   "cell_type": "markdown",
   "id": "aec21184",
   "metadata": {
    "id": "PVj-ECLzHLxf",
    "papermill": {
     "duration": 0.038128,
     "end_time": "2025-07-27T14:13:09.498779",
     "exception": false,
     "start_time": "2025-07-27T14:13:09.460651",
     "status": "completed"
    },
    "tags": []
   },
   "source": [
    "Chúng ta sử dụng torchtext để load dữ liệu, giúp giảm thời gian và hiệu quả"
   ]
  },
  {
   "cell_type": "code",
   "execution_count": 14,
   "id": "919ff067",
   "metadata": {
    "execution": {
     "iopub.execute_input": "2025-07-27T14:13:09.576007Z",
     "iopub.status.busy": "2025-07-27T14:13:09.575401Z",
     "iopub.status.idle": "2025-07-27T14:13:09.696893Z",
     "shell.execute_reply": "2025-07-27T14:13:09.696047Z"
    },
    "id": "M5tvzW9jNQI6",
    "papermill": {
     "duration": 0.161552,
     "end_time": "2025-07-27T14:13:09.698502",
     "exception": false,
     "start_time": "2025-07-27T14:13:09.536950",
     "status": "completed"
    },
    "tags": []
   },
   "outputs": [],
   "source": [
    "from torchtext import data\n",
    "\n",
    "class MyIterator(data.Iterator):\n",
    "    def create_batches(self):\n",
    "        if self.train:\n",
    "            def pool(d, random_shuffler):\n",
    "                for p in data.batch(d, self.batch_size * 100):\n",
    "                    p_batch = data.batch(\n",
    "                        sorted(p, key=self.sort_key),\n",
    "                        self.batch_size, self.batch_size_fn)\n",
    "                    for b in random_shuffler(list(p_batch)):\n",
    "                        yield b\n",
    "            self.batches = pool(self.data(), self.random_shuffler)\n",
    "\n",
    "        else:\n",
    "            self.batches = []\n",
    "            for b in data.batch(self.data(), self.batch_size,\n",
    "                                          self.batch_size_fn):\n",
    "                self.batches.append(sorted(b, key=self.sort_key))\n",
    "\n",
    "global max_src_in_batch, max_tgt_in_batch\n",
    "\n",
    "def batch_size_fn(new, count, sofar):\n",
    "    \"Keep augmenting batch and calculate total number of tokens + padding.\"\n",
    "    global max_src_in_batch, max_tgt_in_batch\n",
    "    if count == 1:\n",
    "        max_src_in_batch = 0\n",
    "        max_tgt_in_batch = 0\n",
    "    max_src_in_batch = max(max_src_in_batch,  len(new.src))\n",
    "    max_tgt_in_batch = max(max_tgt_in_batch,  len(new.trg) + 2)\n",
    "    src_elements = count * max_src_in_batch\n",
    "    tgt_elements = count * max_tgt_in_batch\n",
    "    return max(src_elements, tgt_elements)"
   ]
  },
  {
   "cell_type": "code",
   "execution_count": 15,
   "id": "a2789a35",
   "metadata": {
    "execution": {
     "iopub.execute_input": "2025-07-27T14:13:09.778078Z",
     "iopub.status.busy": "2025-07-27T14:13:09.777806Z",
     "iopub.status.idle": "2025-07-27T14:13:09.783568Z",
     "shell.execute_reply": "2025-07-27T14:13:09.782962Z"
    },
    "id": "NkBjLH96NQI8",
    "papermill": {
     "duration": 0.046637,
     "end_time": "2025-07-27T14:13:09.784703",
     "exception": false,
     "start_time": "2025-07-27T14:13:09.738066",
     "status": "completed"
    },
    "tags": []
   },
   "outputs": [],
   "source": [
    "\n",
    "def nopeak_mask(size, device):\n",
    "    \"\"\"Tạo mask được sử dụng trong decoder để lúc dự đoán trong quá trình huấn luyện\n",
    "     mô hình không nhìn thấy được các từ ở tương lai\n",
    "    \"\"\"\n",
    "    np_mask = np.triu(np.ones((1, size, size)),\n",
    "    k=1).astype('uint8')\n",
    "    np_mask =  Variable(torch.from_numpy(np_mask) == 0)\n",
    "    np_mask = np_mask.to(device)\n",
    "\n",
    "    return np_mask\n",
    "\n",
    "def create_masks(src, trg, src_pad, trg_pad, device):\n",
    "    \"\"\" Tạo mask cho encoder,\n",
    "    để mô hình không bỏ qua thông tin của các kí tự PAD do chúng ta thêm vào\n",
    "    \"\"\"\n",
    "    src_mask = (src != src_pad).unsqueeze(-2)\n",
    "\n",
    "    if trg is not None:\n",
    "        trg_mask = (trg != trg_pad).unsqueeze(-2)\n",
    "        size = trg.size(1) # get seq_len for matrix\n",
    "        np_mask = nopeak_mask(size, device)\n",
    "        if trg.is_cuda:\n",
    "            np_mask.cuda()\n",
    "        trg_mask = trg_mask & np_mask\n",
    "\n",
    "    else:\n",
    "        trg_mask = None\n",
    "    return src_mask, trg_mask"
   ]
  },
  {
   "cell_type": "code",
   "execution_count": 16,
   "id": "148f5e25",
   "metadata": {
    "execution": {
     "iopub.execute_input": "2025-07-27T14:13:09.862798Z",
     "iopub.status.busy": "2025-07-27T14:13:09.862526Z",
     "iopub.status.idle": "2025-07-27T14:13:09.867968Z",
     "shell.execute_reply": "2025-07-27T14:13:09.867220Z"
    },
    "id": "9YoUVx4xjEb7",
    "papermill": {
     "duration": 0.046011,
     "end_time": "2025-07-27T14:13:09.869139",
     "exception": false,
     "start_time": "2025-07-27T14:13:09.823128",
     "status": "completed"
    },
    "tags": []
   },
   "outputs": [],
   "source": [
    "from nltk.corpus import wordnet\n",
    "import re\n",
    "\n",
    "def get_synonym(word, SRC):\n",
    "    syns = wordnet.synsets(word)\n",
    "    for s in syns:\n",
    "        for l in s.lemmas():\n",
    "            if SRC.vocab.stoi[l.name()] != 0:\n",
    "                return SRC.vocab.stoi[l.name()]\n",
    "\n",
    "    return 0\n",
    "\n",
    "def multiple_replace(dict, text):\n",
    "  # Create a regular expression  from the dictionary keys\n",
    "  regex = re.compile(\"(%s)\" % \"|\".join(map(re.escape, dict.keys())))\n",
    "\n",
    "  # For each match, look-up corresponding value in dictionary\n",
    "  return regex.sub(lambda mo: dict[mo.string[mo.start():mo.end()]], text)"
   ]
  },
  {
   "cell_type": "code",
   "execution_count": 17,
   "id": "9e67c59f",
   "metadata": {
    "execution": {
     "iopub.execute_input": "2025-07-27T14:13:09.950441Z",
     "iopub.status.busy": "2025-07-27T14:13:09.950131Z",
     "iopub.status.idle": "2025-07-27T14:13:09.963551Z",
     "shell.execute_reply": "2025-07-27T14:13:09.962800Z"
    },
    "id": "1IJpUEIMgMbw",
    "papermill": {
     "duration": 0.054196,
     "end_time": "2025-07-27T14:13:09.965414",
     "exception": false,
     "start_time": "2025-07-27T14:13:09.911218",
     "status": "completed"
    },
    "tags": []
   },
   "outputs": [],
   "source": [
    "def init_vars(src, model, SRC, TRG, device, k, max_len):\n",
    "    \"\"\" Tính toán các ma trận cần thiết trong quá trình translation sau khi mô hình học xong\n",
    "    \"\"\"\n",
    "    init_tok = TRG.vocab.stoi['<sos>']\n",
    "    src_mask = (src != SRC.vocab.stoi['<pad>']).unsqueeze(-2)\n",
    "\n",
    "    # tính sẵn output của encoder\n",
    "    e_output = model.encoder(src, src_mask)\n",
    "\n",
    "    outputs = torch.LongTensor([[init_tok]])\n",
    "\n",
    "    outputs = outputs.to(device)\n",
    "\n",
    "    trg_mask = nopeak_mask(1, device)\n",
    "    # dự đoán kí tự đầu tiên\n",
    "    out = model.out(model.decoder(outputs,\n",
    "    e_output, src_mask, trg_mask))\n",
    "    out = F.softmax(out, dim=-1)\n",
    "\n",
    "    probs, ix = out[:, -1].data.topk(k)\n",
    "    log_scores = torch.Tensor([math.log(prob) for prob in probs.data[0]]).unsqueeze(0)\n",
    "\n",
    "    outputs = torch.zeros(k, max_len).long()\n",
    "    outputs = outputs.to(device)\n",
    "    outputs[:, 0] = init_tok\n",
    "    outputs[:, 1] = ix[0]\n",
    "\n",
    "    e_outputs = torch.zeros(k, e_output.size(-2),e_output.size(-1))\n",
    "\n",
    "    e_outputs = e_outputs.to(device)\n",
    "    e_outputs[:, :] = e_output[0]\n",
    "\n",
    "    return outputs, e_outputs, log_scores\n",
    "\n",
    "def k_best_outputs(outputs, out, log_scores, i, k):\n",
    "\n",
    "    probs, ix = out[:, -1].data.topk(k)\n",
    "    log_probs = torch.Tensor([math.log(p) for p in probs.data.view(-1)]).view(k, -1) + log_scores.transpose(0,1)\n",
    "    k_probs, k_ix = log_probs.view(-1).topk(k)\n",
    "\n",
    "    row = k_ix // k\n",
    "    col = k_ix % k\n",
    "\n",
    "    outputs[:, :i] = outputs[row, :i]\n",
    "    outputs[:, i] = ix[row, col]\n",
    "\n",
    "    log_scores = k_probs.unsqueeze(0)\n",
    "\n",
    "    return outputs, log_scores\n",
    "\n",
    "def beam_search(src, model, SRC, TRG, device, k, max_len):\n",
    "\n",
    "    outputs, e_outputs, log_scores = init_vars(src, model, SRC, TRG, device, k, max_len)\n",
    "    eos_tok = TRG.vocab.stoi['<eos>']\n",
    "    src_mask = (src != SRC.vocab.stoi['<pad>']).unsqueeze(-2)\n",
    "    ind = None\n",
    "    for i in range(2, max_len):\n",
    "\n",
    "        trg_mask = nopeak_mask(i, device)\n",
    "\n",
    "        out = model.out(model.decoder(outputs[:,:i],\n",
    "        e_outputs, src_mask, trg_mask))\n",
    "\n",
    "        out = F.softmax(out, dim=-1)\n",
    "\n",
    "        outputs, log_scores = k_best_outputs(outputs, out, log_scores, i, k)\n",
    "\n",
    "        ones = (outputs==eos_tok).nonzero() # Occurrences of end symbols for all input sentences.\n",
    "        sentence_lengths = torch.zeros(len(outputs), dtype=torch.long).cuda()\n",
    "        for vec in ones:\n",
    "            i = vec[0]\n",
    "            if sentence_lengths[i]==0: # First end symbol has not been found yet\n",
    "                sentence_lengths[i] = vec[1] # Position of first end symbol\n",
    "\n",
    "        num_finished_sentences = len([s for s in sentence_lengths if s > 0])\n",
    "\n",
    "        if num_finished_sentences == k:\n",
    "            alpha = 0.7\n",
    "            div = 1/(sentence_lengths.type_as(log_scores)**alpha)\n",
    "            _, ind = torch.max(log_scores * div, 1)\n",
    "            ind = ind.data[0]\n",
    "            break\n",
    "\n",
    "    if ind is None:\n",
    "\n",
    "        length = (outputs[0]==eos_tok).nonzero()[0] if len((outputs[0]==eos_tok).nonzero()) > 0 else -1\n",
    "        return ' '.join([TRG.vocab.itos[tok] for tok in outputs[0][1:length]])\n",
    "\n",
    "    else:\n",
    "        length = (outputs[ind]==eos_tok).nonzero()[0]\n",
    "        return ' '.join([TRG.vocab.itos[tok] for tok in outputs[ind][1:length]])"
   ]
  },
  {
   "cell_type": "code",
   "execution_count": 18,
   "id": "dc20e329",
   "metadata": {
    "execution": {
     "iopub.execute_input": "2025-07-27T14:13:10.064155Z",
     "iopub.status.busy": "2025-07-27T14:13:10.063465Z",
     "iopub.status.idle": "2025-07-27T14:13:10.070452Z",
     "shell.execute_reply": "2025-07-27T14:13:10.069680Z"
    },
    "id": "s-AFuSOIhi7X",
    "papermill": {
     "duration": 0.04697,
     "end_time": "2025-07-27T14:13:10.071607",
     "exception": false,
     "start_time": "2025-07-27T14:13:10.024637",
     "status": "completed"
    },
    "tags": []
   },
   "outputs": [],
   "source": [
    "def translate_sentence(sentence, model, SRC, TRG, device, k, max_len):\n",
    "    \"\"\"Dịch một câu sử dụng beamsearch\n",
    "    \"\"\"\n",
    "    model.eval()\n",
    "    indexed = []\n",
    "    sentence = SRC.preprocess(sentence)\n",
    "\n",
    "    for tok in sentence:\n",
    "        if SRC.vocab.stoi[tok] != SRC.vocab.stoi['<eos>']:\n",
    "            indexed.append(SRC.vocab.stoi[tok])\n",
    "        else:\n",
    "            indexed.append(get_synonym(tok, SRC))\n",
    "\n",
    "    sentence = Variable(torch.LongTensor([indexed]))\n",
    "\n",
    "    sentence = sentence.to(device)\n",
    "\n",
    "    sentence = beam_search(sentence, model, SRC, TRG, device, k, max_len)\n",
    "\n",
    "    return  multiple_replace({' ?' : '?',' !':'!',' .':'.','\\' ':'\\'',' ,':','}, sentence)"
   ]
  },
  {
   "cell_type": "code",
   "execution_count": 19,
   "id": "e4778da9",
   "metadata": {
    "execution": {
     "iopub.execute_input": "2025-07-27T14:13:10.157441Z",
     "iopub.status.busy": "2025-07-27T14:13:10.156677Z",
     "iopub.status.idle": "2025-07-27T14:13:19.735562Z",
     "shell.execute_reply": "2025-07-27T14:13:19.734714Z"
    },
    "id": "4Uee4YaQNQI_",
    "papermill": {
     "duration": 9.620788,
     "end_time": "2025-07-27T14:13:19.737045",
     "exception": false,
     "start_time": "2025-07-27T14:13:10.116257",
     "status": "completed"
    },
    "tags": []
   },
   "outputs": [
    {
     "name": "stdout",
     "output_type": "stream",
     "text": [
      "Collecting en-core-web-sm==3.8.0\r\n",
      "  Downloading https://github.com/explosion/spacy-models/releases/download/en_core_web_sm-3.8.0/en_core_web_sm-3.8.0-py3-none-any.whl (12.8 MB)\r\n",
      "\u001b[2K     \u001b[90m━━━━━━━━━━━━━━━━━━━━━━━━━━━━━━━━━━━━━━━━\u001b[0m \u001b[32m12.8/12.8 MB\u001b[0m \u001b[31m58.2 MB/s\u001b[0m eta \u001b[36m0:00:00\u001b[0m\r\n",
      "\u001b[?25h\u001b[38;5;2m✔ Download and installation successful\u001b[0m\r\n",
      "You can now load the package via spacy.load('en_core_web_sm')\r\n",
      "\u001b[38;5;3m⚠ Restart to reload dependencies\u001b[0m\r\n",
      "If you are in a Jupyter or Colab notebook, you may need to restart Python in\r\n",
      "order to load all the package's dependencies. You can do this by selecting the\r\n",
      "'Restart kernel' or 'Restart runtime' option.\r\n"
     ]
    }
   ],
   "source": [
    "import spacy\n",
    "import re\n",
    "\n",
    "# Ensure the SpaCy model is installed\n",
    "!python -m spacy download en_core_web_sm\n",
    "\n",
    "class tokenize(object):\n",
    "\n",
    "    def __init__(self, lang):\n",
    "        #self.nlp = spacy.load(lang)\n",
    "         self.nlp = spacy.load('en_core_web_sm')\n",
    "\n",
    "    def tokenizer(self, sentence):\n",
    "        sentence = re.sub(\n",
    "        r\"[\\*\\\"“”\\n\\\\…\\+\\-\\/\\=\\(\\)‘•:\\[\\]\\|’\\!;]\", \" \", str(sentence))\n",
    "        sentence = re.sub(r\"[ ]+\", \" \", sentence)\n",
    "        sentence = re.sub(r\"\\!+\", \"!\", sentence)\n",
    "        sentence = re.sub(r\"\\,+\", \",\", sentence)\n",
    "        sentence = re.sub(r\"\\?+\", \"?\", sentence)\n",
    "        sentence = sentence.lower()\n",
    "        return [tok.text for tok in self.nlp.tokenizer(sentence) if tok.text != \" \"]"
   ]
  },
  {
   "cell_type": "markdown",
   "id": "cb5cf29d",
   "metadata": {
    "id": "x2jMF9lzQ4a8",
    "papermill": {
     "duration": 0.043392,
     "end_time": "2025-07-27T14:13:19.819867",
     "exception": false,
     "start_time": "2025-07-27T14:13:19.776475",
     "status": "completed"
    },
    "tags": []
   },
   "source": [
    "## Data loader\n",
    "Sử dụng torchtext để load dữ liệu nhanh chóng"
   ]
  },
  {
   "cell_type": "code",
   "execution_count": 20,
   "id": "cef1f593",
   "metadata": {
    "colab": {
     "base_uri": "https://localhost:8080/"
    },
    "execution": {
     "iopub.execute_input": "2025-07-27T14:13:19.924662Z",
     "iopub.status.busy": "2025-07-27T14:13:19.923759Z",
     "iopub.status.idle": "2025-07-27T14:13:24.707012Z",
     "shell.execute_reply": "2025-07-27T14:13:24.706338Z"
    },
    "id": "_uVO0yr_NQJC",
    "outputId": "e3050c88-0125-41d7-c9ba-23ce1f012728",
    "papermill": {
     "duration": 4.841526,
     "end_time": "2025-07-27T14:13:24.708348",
     "exception": false,
     "start_time": "2025-07-27T14:13:19.866822",
     "status": "completed"
    },
    "tags": []
   },
   "outputs": [
    {
     "name": "stdout",
     "output_type": "stream",
     "text": [
      "Requirement already satisfied: dill in /usr/local/lib/python3.11/dist-packages (0.3.8)\r\n",
      "Note: you may need to restart the kernel to use updated packages.\n"
     ]
    }
   ],
   "source": [
    "import os\n",
    "%pip install dill # Install the dill module\n",
    "import dill as pickle\n",
    "import pandas as pd\n",
    "\n",
    "def read_data(src_file, trg_file):\n",
    "    src_data = open(src_file).read().strip().split('\\n')\n",
    "\n",
    "    trg_data = open(trg_file).read().strip().split('\\n')\n",
    "\n",
    "    return src_data, trg_data\n",
    "\n",
    "def create_fields(src_lang, trg_lang):\n",
    "\n",
    "    print(\"loading spacy tokenizers...\")\n",
    "\n",
    "    t_src = tokenize(src_lang)\n",
    "    t_trg = tokenize(trg_lang)\n",
    "\n",
    "    TRG = data.Field(lower=True, tokenize=t_trg.tokenizer, init_token='<sos>', eos_token='<eos>')\n",
    "    SRC = data.Field(lower=True, tokenize=t_src.tokenizer)\n",
    "\n",
    "    return SRC, TRG\n",
    "\n",
    "def create_dataset(src_data, trg_data, max_strlen, batchsize, device, SRC, TRG, istrain=True):\n",
    "\n",
    "    print(\"creating dataset and iterator... \")\n",
    "\n",
    "    raw_data = {'src' : [line for line in src_data], 'trg': [line for line in trg_data]}\n",
    "    df = pd.DataFrame(raw_data, columns=[\"src\", \"trg\"])\n",
    "\n",
    "    mask = (df['src'].str.count(' ') < max_strlen) & (df['trg'].str.count(' ') < max_strlen)\n",
    "    df = df.loc[mask]\n",
    "\n",
    "    df.to_csv(\"translate_transformer_temp.csv\", index=False)\n",
    "\n",
    "    data_fields = [('src', SRC), ('trg', TRG)]\n",
    "    train = data.TabularDataset('./translate_transformer_temp.csv', format='csv', fields=data_fields)\n",
    "\n",
    "    train_iter = MyIterator(train, batch_size=batchsize, device=device,\n",
    "                        repeat=False, sort_key=lambda x: (len(x.src), len(x.trg)),\n",
    "                        batch_size_fn=batch_size_fn, train=istrain, shuffle=True)\n",
    "\n",
    "    os.remove('translate_transformer_temp.csv')\n",
    "\n",
    "    if istrain:\n",
    "        SRC.build_vocab(train)\n",
    "        TRG.build_vocab(train)\n",
    "\n",
    "    return train_iter\n"
   ]
  },
  {
   "cell_type": "code",
   "execution_count": 21,
   "id": "e758ef18",
   "metadata": {
    "execution": {
     "iopub.execute_input": "2025-07-27T14:13:24.788594Z",
     "iopub.status.busy": "2025-07-27T14:13:24.787261Z",
     "iopub.status.idle": "2025-07-27T14:13:24.793496Z",
     "shell.execute_reply": "2025-07-27T14:13:24.792694Z"
    },
    "id": "l4POJRxdNQJF",
    "papermill": {
     "duration": 0.047007,
     "end_time": "2025-07-27T14:13:24.794740",
     "exception": false,
     "start_time": "2025-07-27T14:13:24.747733",
     "status": "completed"
    },
    "tags": []
   },
   "outputs": [],
   "source": [
    "def step(model, optimizer,batch, criterion):\n",
    "    \"\"\"\n",
    "    Một lần cập nhật mô hình\n",
    "    \"\"\"\n",
    "    model.train()\n",
    "\n",
    "    src = batch.src.transpose(0,1).cuda()\n",
    "    trg = batch.trg.transpose(0,1).cuda()\n",
    "    trg_input = trg[:, :-1]\n",
    "    src_mask, trg_mask = create_masks(src, trg_input, src_pad, trg_pad, opt['device'])\n",
    "    preds = model(src, trg_input, src_mask, trg_mask)\n",
    "\n",
    "    ys = trg[:, 1:].contiguous().view(-1)\n",
    "\n",
    "    optimizer.zero_grad()\n",
    "    loss = criterion(preds.view(-1, preds.size(-1)), ys)\n",
    "    loss.backward()\n",
    "    optimizer.step_and_update_lr()\n",
    "\n",
    "    loss = loss.item()\n",
    "\n",
    "    return loss"
   ]
  },
  {
   "cell_type": "code",
   "execution_count": 22,
   "id": "570ce91e",
   "metadata": {
    "execution": {
     "iopub.execute_input": "2025-07-27T14:13:24.872486Z",
     "iopub.status.busy": "2025-07-27T14:13:24.871955Z",
     "iopub.status.idle": "2025-07-27T14:13:24.877516Z",
     "shell.execute_reply": "2025-07-27T14:13:24.876812Z"
    },
    "id": "c5sPA-k_NQJI",
    "papermill": {
     "duration": 0.045399,
     "end_time": "2025-07-27T14:13:24.878655",
     "exception": false,
     "start_time": "2025-07-27T14:13:24.833256",
     "status": "completed"
    },
    "tags": []
   },
   "outputs": [],
   "source": [
    "def validiate(model, valid_iter, criterion):\n",
    "    \"\"\" Tính loss trên tập validation\n",
    "    \"\"\"\n",
    "    model.eval()\n",
    "\n",
    "    with torch.no_grad():\n",
    "        total_loss = []\n",
    "        for batch in valid_iter:\n",
    "            src = batch.src.transpose(0,1).cuda()\n",
    "            trg = batch.trg.transpose(0,1).cuda()\n",
    "            trg_input = trg[:, :-1]\n",
    "            src_mask, trg_mask = create_masks(src, trg_input, src_pad, trg_pad, opt['device'])\n",
    "            preds = model(src, trg_input, src_mask, trg_mask)\n",
    "\n",
    "            ys = trg[:, 1:].contiguous().view(-1)\n",
    "\n",
    "            loss = criterion(preds.view(-1, preds.size(-1)), ys)\n",
    "\n",
    "            loss = loss.item()\n",
    "\n",
    "            total_loss.append(loss)\n",
    "\n",
    "    avg_loss = np.mean(total_loss)\n",
    "\n",
    "    return avg_loss"
   ]
  },
  {
   "cell_type": "markdown",
   "id": "1fbb9656",
   "metadata": {
    "id": "QX4b6LLN47qC",
    "papermill": {
     "duration": 0.038446,
     "end_time": "2025-07-27T14:13:24.955694",
     "exception": false,
     "start_time": "2025-07-27T14:13:24.917248",
     "status": "completed"
    },
    "tags": []
   },
   "source": [
    "# Optimizer\n",
    "Để huấn luyện mô hình transformer, các bạn vẫn sử dụng Adam, tuy nhiên, learning rate cần phải được điều chỉnh trong suốt quá trình học theo công thức sau\n",
    "\n",
    "![alt text](https://raw.githubusercontent.com/pbcquoc/pbcquoc.github.io/master/images/transformer/optimizer.png)\n",
    "\n",
    "![alt text](https://pbcquoc.github.io/images/transformer/opt.png)\n"
   ]
  },
  {
   "cell_type": "code",
   "execution_count": 23,
   "id": "d4da33cc",
   "metadata": {
    "execution": {
     "iopub.execute_input": "2025-07-27T14:13:25.033169Z",
     "iopub.status.busy": "2025-07-27T14:13:25.032702Z",
     "iopub.status.idle": "2025-07-27T14:13:25.039669Z",
     "shell.execute_reply": "2025-07-27T14:13:25.038938Z"
    },
    "id": "OW8pRq91rwJR",
    "papermill": {
     "duration": 0.047118,
     "end_time": "2025-07-27T14:13:25.040828",
     "exception": false,
     "start_time": "2025-07-27T14:13:24.993710",
     "status": "completed"
    },
    "tags": []
   },
   "outputs": [],
   "source": [
    "class ScheduledOptim():\n",
    "    '''A simple wrapper class for learning rate scheduling'''\n",
    "\n",
    "    def __init__(self, optimizer, init_lr, d_model, n_warmup_steps):\n",
    "        self._optimizer = optimizer\n",
    "        self.init_lr = init_lr\n",
    "        self.d_model = d_model\n",
    "        self.n_warmup_steps = n_warmup_steps\n",
    "        self.n_steps = 0\n",
    "\n",
    "\n",
    "    def step_and_update_lr(self):\n",
    "        \"Step with the inner optimizer\"\n",
    "        self._update_learning_rate()\n",
    "        self._optimizer.step()\n",
    "\n",
    "\n",
    "    def zero_grad(self):\n",
    "        \"Zero out the gradients with the inner optimizer\"\n",
    "        self._optimizer.zero_grad()\n",
    "\n",
    "\n",
    "    def _get_lr_scale(self):\n",
    "        d_model = self.d_model\n",
    "        n_steps, n_warmup_steps = self.n_steps, self.n_warmup_steps\n",
    "        return (d_model ** -0.5) * min(n_steps ** (-0.5), n_steps * n_warmup_steps ** (-1.5))\n",
    "\n",
    "    def state_dict(self):\n",
    "        optimizer_state_dict = {\n",
    "            'init_lr':self.init_lr,\n",
    "            'd_model':self.d_model,\n",
    "            'n_warmup_steps':self.n_warmup_steps,\n",
    "            'n_steps':self.n_steps,\n",
    "            '_optimizer':self._optimizer.state_dict(),\n",
    "        }\n",
    "\n",
    "        return optimizer_state_dict\n",
    "\n",
    "    def load_state_dict(self, state_dict):\n",
    "        self.init_lr = state_dict['init_lr']\n",
    "        self.d_model = state_dict['d_model']\n",
    "        self.n_warmup_steps = state_dict['n_warmup_steps']\n",
    "        self.n_steps = state_dict['n_steps']\n",
    "\n",
    "        self._optimizer.load_state_dict(state_dict['_optimizer'])\n",
    "\n",
    "    def _update_learning_rate(self):\n",
    "        ''' Learning rate scheduling per step '''\n",
    "\n",
    "        self.n_steps += 1\n",
    "        lr = self.init_lr * self._get_lr_scale()\n",
    "\n",
    "        for param_group in self._optimizer.param_groups:\n",
    "            param_group['lr'] = lr"
   ]
  },
  {
   "cell_type": "markdown",
   "id": "fbfc24c5",
   "metadata": {
    "id": "TKJoYats5LYn",
    "papermill": {
     "duration": 0.037857,
     "end_time": "2025-07-27T14:13:25.117938",
     "exception": false,
     "start_time": "2025-07-27T14:13:25.080081",
     "status": "completed"
    },
    "tags": []
   },
   "source": [
    "# Label Smoothing\n",
    "Với mô hình nhiều triệu tham số của transformer, thì việt overfit là chuyện dễ dàng xảy ra. Để hạn chế hiện tượng overfit, các bạn có thể sử dụng kỹ thuật label smoothing. Về cơ bản thì ý tưởng của kỹ thuật này khá đơn giản, chúng ta sẽ phạt mô hình khi nó quá tự tin vào việc dự đoán của mình. Thay vì mã hóa nhãn là một one-hot vector, các bạn sẽ thay đổi nhãn này một chút bằng cách phân bố một tí xác suất vào các trường hợp còn lại.\n",
    "\n",
    "![alt text](https://pbcquoc.github.io/images/transformer/label_smoothing.jpg)\n",
    "\n",
    "Giờ thì các bạn sẽ an tâm khi có thể để số epoch lớn mà không lo rằng mô hình sẽ overfit nặng nề.\n",
    "\n"
   ]
  },
  {
   "cell_type": "code",
   "execution_count": 24,
   "id": "a248bda2",
   "metadata": {
    "execution": {
     "iopub.execute_input": "2025-07-27T14:13:25.196656Z",
     "iopub.status.busy": "2025-07-27T14:13:25.196155Z",
     "iopub.status.idle": "2025-07-27T14:13:25.202176Z",
     "shell.execute_reply": "2025-07-27T14:13:25.201482Z"
    },
    "id": "LHGeSHThtlj-",
    "papermill": {
     "duration": 0.047003,
     "end_time": "2025-07-27T14:13:25.203366",
     "exception": false,
     "start_time": "2025-07-27T14:13:25.156363",
     "status": "completed"
    },
    "tags": []
   },
   "outputs": [],
   "source": [
    "class LabelSmoothingLoss(nn.Module):\n",
    "    def __init__(self, classes, padding_idx, smoothing=0.0, dim=-1):\n",
    "        super(LabelSmoothingLoss, self).__init__()\n",
    "        self.confidence = 1.0 - smoothing\n",
    "        self.smoothing = smoothing\n",
    "        self.cls = classes\n",
    "        self.dim = dim\n",
    "        self.padding_idx = padding_idx\n",
    "\n",
    "    def forward(self, pred, target):\n",
    "        pred = pred.log_softmax(dim=self.dim)\n",
    "        with torch.no_grad():\n",
    "            # true_dist = pred.data.clone()\n",
    "            true_dist = torch.zeros_like(pred)\n",
    "            true_dist.fill_(self.smoothing / (self.cls - 2))\n",
    "            true_dist.scatter_(1, target.data.unsqueeze(1), self.confidence)\n",
    "            true_dist[:, self.padding_idx] = 0\n",
    "            mask = torch.nonzero(target.data == self.padding_idx, as_tuple=False)\n",
    "            if mask.dim() > 0:\n",
    "                true_dist.index_fill_(0, mask.squeeze(), 0.0)\n",
    "\n",
    "        return torch.mean(torch.sum(-true_dist * pred, dim=self.dim))"
   ]
  },
  {
   "cell_type": "code",
   "execution_count": 25,
   "id": "4777dd24",
   "metadata": {
    "execution": {
     "iopub.execute_input": "2025-07-27T14:13:25.280577Z",
     "iopub.status.busy": "2025-07-27T14:13:25.280288Z",
     "iopub.status.idle": "2025-07-27T14:13:25.284981Z",
     "shell.execute_reply": "2025-07-27T14:13:25.284468Z"
    },
    "id": "Sg257Gk_Kzzw",
    "papermill": {
     "duration": 0.044182,
     "end_time": "2025-07-27T14:13:25.286092",
     "exception": false,
     "start_time": "2025-07-27T14:13:25.241910",
     "status": "completed"
    },
    "tags": []
   },
   "outputs": [],
   "source": [
    "from torchtext.data.metrics import bleu_score\n",
    "\n",
    "def bleu(valid_src_data, valid_trg_data, model, SRC, TRG, device, k, max_strlen):\n",
    "    pred_sents = []\n",
    "    for sentence in valid_src_data:\n",
    "        pred_trg = translate_sentence(sentence, model, SRC, TRG, device, k, max_strlen)\n",
    "        pred_sents.append(pred_trg)\n",
    "\n",
    "    pred_sents = [TRG.preprocess(sent) for sent in pred_sents]\n",
    "    trg_sents = [[sent.split()] for sent in valid_trg_data]\n",
    "\n",
    "    return bleu_score(pred_sents, trg_sents)"
   ]
  },
  {
   "cell_type": "code",
   "execution_count": 26,
   "id": "9ddab942",
   "metadata": {
    "execution": {
     "iopub.execute_input": "2025-07-27T14:13:25.365738Z",
     "iopub.status.busy": "2025-07-27T14:13:25.365049Z",
     "iopub.status.idle": "2025-07-27T14:13:25.369660Z",
     "shell.execute_reply": "2025-07-27T14:13:25.368917Z"
    },
    "id": "Nhgu-SPTNQJL",
    "papermill": {
     "duration": 0.045194,
     "end_time": "2025-07-27T14:13:25.370857",
     "exception": false,
     "start_time": "2025-07-27T14:13:25.325663",
     "status": "completed"
    },
    "tags": []
   },
   "outputs": [],
   "source": [
    "opt = {\n",
    "    'train_src_data':'./data/train.en',\n",
    "    'train_trg_data':'./data/train.vi',\n",
    "    'valid_src_data':'./data/tst2013.en',\n",
    "    'valid_trg_data':'./data/tst2013.vi',\n",
    "    'src_lang':'en',\n",
    "    'trg_lang':'en',#'vi_spacy_model',\n",
    "    'max_strlen':160,\n",
    "    'batchsize':1500,\n",
    "    'device':'cuda',\n",
    "    'd_model': 512,\n",
    "    'n_layers': 6,\n",
    "    'heads': 8,\n",
    "    'dropout': 0.1,\n",
    "    'lr':0.0001,\n",
    "    'epochs':30,\n",
    "    'printevery': 200,\n",
    "    'k':5,\n",
    "}"
   ]
  },
  {
   "cell_type": "code",
   "execution_count": 27,
   "id": "62fdf709",
   "metadata": {
    "colab": {
     "base_uri": "https://localhost:8080/"
    },
    "execution": {
     "iopub.execute_input": "2025-07-27T14:13:25.454044Z",
     "iopub.status.busy": "2025-07-27T14:13:25.453462Z",
     "iopub.status.idle": "2025-07-27T14:13:38.822172Z",
     "shell.execute_reply": "2025-07-27T14:13:38.821133Z"
    },
    "id": "7HOay5MrNQJO",
    "outputId": "86a9a9e3-1fb8-4477-e93f-5e5edab0b5ca",
    "papermill": {
     "duration": 13.414382,
     "end_time": "2025-07-27T14:13:38.823752",
     "exception": false,
     "start_time": "2025-07-27T14:13:25.409370",
     "status": "completed"
    },
    "tags": []
   },
   "outputs": [
    {
     "name": "stdout",
     "output_type": "stream",
     "text": [
      "/usr/local/lib/python3.11/dist-packages/gdown/__main__.py:140: FutureWarning: Option `--id` was deprecated in version 4.3.1 and will be removed in 5.0. You don't need to pass it anymore to use a file ID.\r\n",
      "  warnings.warn(\r\n",
      "Downloading...\r\n",
      "From: https://drive.google.com/uc?id=1Fuo_ALIFKlUvOPbK5rUA5OfAS2wKn_95\r\n",
      "To: /kaggle/working/en_vi.zip\r\n",
      "100%|██████████████████████████████████████| 10.1M/10.1M [00:01<00:00, 8.62MB/s]\r\n"
     ]
    }
   ],
   "source": [
    "os.makedirs('./data/', exist_ok=True)\n",
    "! gdown --id 1Fuo_ALIFKlUvOPbK5rUA5OfAS2wKn_95"
   ]
  },
  {
   "cell_type": "code",
   "execution_count": 28,
   "id": "1dc06d02",
   "metadata": {
    "colab": {
     "base_uri": "https://localhost:8080/"
    },
    "execution": {
     "iopub.execute_input": "2025-07-27T14:13:38.902567Z",
     "iopub.status.busy": "2025-07-27T14:13:38.902211Z",
     "iopub.status.idle": "2025-07-27T14:13:39.305286Z",
     "shell.execute_reply": "2025-07-27T14:13:39.304309Z"
    },
    "id": "NIWJTjdLNQJR",
    "outputId": "445fd914-083b-4311-9884-04677363e82f",
    "papermill": {
     "duration": 0.444042,
     "end_time": "2025-07-27T14:13:39.306891",
     "exception": false,
     "start_time": "2025-07-27T14:13:38.862849",
     "status": "completed"
    },
    "tags": []
   },
   "outputs": [
    {
     "name": "stdout",
     "output_type": "stream",
     "text": [
      "Archive:  en_vi.zip\r\n",
      "  inflating: data/tst2013.en         \r\n",
      "  inflating: data/tst2012.vi         \r\n",
      "  inflating: data/train.en           \r\n",
      "  inflating: data/tst2013.vi         \r\n",
      "  inflating: data/train.vi           \r\n",
      "  inflating: data/tst2012.en         \r\n"
     ]
    }
   ],
   "source": [
    "! unzip -o en_vi.zip"
   ]
  },
  {
   "cell_type": "code",
   "execution_count": 29,
   "id": "918c84a4",
   "metadata": {
    "colab": {
     "base_uri": "https://localhost:8080/"
    },
    "execution": {
     "iopub.execute_input": "2025-07-27T14:13:39.388225Z",
     "iopub.status.busy": "2025-07-27T14:13:39.387566Z",
     "iopub.status.idle": "2025-07-27T14:14:06.046202Z",
     "shell.execute_reply": "2025-07-27T14:14:06.045541Z"
    },
    "id": "IBotIB8pNQJU",
    "outputId": "a0f80b63-1b16-4498-ba0b-ee286f7f61cb",
    "papermill": {
     "duration": 26.700496,
     "end_time": "2025-07-27T14:14:06.047533",
     "exception": false,
     "start_time": "2025-07-27T14:13:39.347037",
     "status": "completed"
    },
    "tags": []
   },
   "outputs": [
    {
     "name": "stdout",
     "output_type": "stream",
     "text": [
      "loading spacy tokenizers...\n",
      "creating dataset and iterator... \n",
      "creating dataset and iterator... \n"
     ]
    }
   ],
   "source": [
    "train_src_data, train_trg_data = read_data(opt['train_src_data'], opt['train_trg_data'])\n",
    "valid_src_data, valid_trg_data = read_data(opt['valid_src_data'], opt['valid_trg_data'])\n",
    "\n",
    "SRC, TRG = create_fields(opt['src_lang'], opt['trg_lang'])\n",
    "train_iter = create_dataset(train_src_data, train_trg_data, opt['max_strlen'], opt['batchsize'], opt['device'], SRC, TRG, istrain=True)\n",
    "valid_iter = create_dataset(valid_src_data, valid_trg_data, opt['max_strlen'], opt['batchsize'], opt['device'], SRC, TRG, istrain=False)"
   ]
  },
  {
   "cell_type": "code",
   "execution_count": 30,
   "id": "6de1e635",
   "metadata": {
    "execution": {
     "iopub.execute_input": "2025-07-27T14:14:06.128393Z",
     "iopub.status.busy": "2025-07-27T14:14:06.128078Z",
     "iopub.status.idle": "2025-07-27T14:14:06.131518Z",
     "shell.execute_reply": "2025-07-27T14:14:06.130985Z"
    },
    "id": "Gnw9xrJeNQJX",
    "papermill": {
     "duration": 0.043931,
     "end_time": "2025-07-27T14:14:06.132545",
     "exception": false,
     "start_time": "2025-07-27T14:14:06.088614",
     "status": "completed"
    },
    "tags": []
   },
   "outputs": [],
   "source": [
    "src_pad = SRC.vocab.stoi['<pad>']\n",
    "trg_pad = TRG.vocab.stoi['<pad>']"
   ]
  },
  {
   "cell_type": "code",
   "execution_count": 31,
   "id": "cb0c129a",
   "metadata": {
    "execution": {
     "iopub.execute_input": "2025-07-27T14:14:06.212752Z",
     "iopub.status.busy": "2025-07-27T14:14:06.212449Z",
     "iopub.status.idle": "2025-07-27T14:14:08.929111Z",
     "shell.execute_reply": "2025-07-27T14:14:08.928521Z"
    },
    "id": "5RccNL8VNQJd",
    "papermill": {
     "duration": 2.758289,
     "end_time": "2025-07-27T14:14:08.930487",
     "exception": false,
     "start_time": "2025-07-27T14:14:06.172198",
     "status": "completed"
    },
    "tags": []
   },
   "outputs": [],
   "source": [
    "model = Transformer(len(SRC.vocab), len(TRG.vocab), opt['d_model'], opt['n_layers'], opt['heads'], opt['dropout'])\n",
    "\n",
    "for p in model.parameters():\n",
    "    if p.dim() > 1:\n",
    "        nn.init.xavier_uniform_(p)\n",
    "\n",
    "model = model.to(opt['device'])"
   ]
  },
  {
   "cell_type": "code",
   "execution_count": 32,
   "id": "acd12ff4",
   "metadata": {
    "execution": {
     "iopub.execute_input": "2025-07-27T14:14:09.009486Z",
     "iopub.status.busy": "2025-07-27T14:14:09.008919Z",
     "iopub.status.idle": "2025-07-27T14:14:13.266162Z",
     "shell.execute_reply": "2025-07-27T14:14:13.265602Z"
    },
    "id": "12debLGiNQJg",
    "papermill": {
     "duration": 4.297878,
     "end_time": "2025-07-27T14:14:13.267538",
     "exception": false,
     "start_time": "2025-07-27T14:14:08.969660",
     "status": "completed"
    },
    "tags": []
   },
   "outputs": [],
   "source": [
    "\n",
    "optimizer = ScheduledOptim(\n",
    "        torch.optim.Adam(model.parameters(), betas=(0.9, 0.98), eps=1e-09),\n",
    "        0.2, opt['d_model'], 4000)\n",
    "\n",
    "criterion = LabelSmoothingLoss(len(TRG.vocab), padding_idx=trg_pad, smoothing=0.1)"
   ]
  },
  {
   "cell_type": "code",
   "execution_count": 33,
   "id": "4476dbfc",
   "metadata": {
    "colab": {
     "base_uri": "https://localhost:8080/"
    },
    "execution": {
     "iopub.execute_input": "2025-07-27T14:14:13.346195Z",
     "iopub.status.busy": "2025-07-27T14:14:13.345704Z",
     "iopub.status.idle": "2025-07-27T18:08:08.705593Z",
     "shell.execute_reply": "2025-07-27T18:08:08.704927Z"
    },
    "id": "JeZqfQPANQJl",
    "outputId": "4f40e5d0-340b-46b4-f90b-9e3c659879c5",
    "papermill": {
     "duration": 14035.455415,
     "end_time": "2025-07-27T18:08:08.762148",
     "exception": false,
     "start_time": "2025-07-27T14:14:13.306733",
     "status": "completed"
    },
    "tags": []
   },
   "outputs": [
    {
     "name": "stdout",
     "output_type": "stream",
     "text": [
      "epoch: 000 - iter: 00199 - train loss: 9.3877 - time: 0.1201\n",
      "epoch: 000 - iter: 00399 - train loss: 8.2925 - time: 0.1184\n",
      "epoch: 000 - iter: 00599 - train loss: 7.1606 - time: 0.1106\n",
      "epoch: 000 - iter: 00799 - train loss: 6.6003 - time: 0.1208\n",
      "epoch: 000 - iter: 00999 - train loss: 6.4268 - time: 0.1137\n",
      "epoch: 000 - iter: 01199 - train loss: 6.1645 - time: 0.1149\n",
      "epoch: 000 - iter: 01399 - train loss: 6.0710 - time: 0.1063\n",
      "epoch: 000 - iter: 01599 - train loss: 5.8746 - time: 0.1129\n",
      "epoch: 000 - iter: 01799 - train loss: 5.7649 - time: 0.1205\n",
      "epoch: 000 - iter: 01999 - train loss: 5.5641 - time: 0.1130\n",
      "epoch: 000 - iter: 02199 - train loss: 5.5053 - time: 0.1063\n",
      "epoch: 000 - iter: 02399 - train loss: 5.3666 - time: 0.1126\n",
      "epoch: 000 - iter: 02497 - valid loss: 3.9781 - bleu score: 0.0155 - time: 180.4767\n",
      "epoch: 001 - iter: 00199 - train loss: 5.2282 - time: 0.1126\n",
      "epoch: 001 - iter: 00399 - train loss: 5.0989 - time: 0.1118\n",
      "epoch: 001 - iter: 00599 - train loss: 5.0277 - time: 0.1138\n",
      "epoch: 001 - iter: 00799 - train loss: 4.9685 - time: 0.1132\n",
      "epoch: 001 - iter: 00999 - train loss: 4.8268 - time: 0.1171\n",
      "epoch: 001 - iter: 01199 - train loss: 4.7742 - time: 0.1205\n",
      "epoch: 001 - iter: 01399 - train loss: 4.7229 - time: 0.1136\n",
      "epoch: 001 - iter: 01599 - train loss: 4.5522 - time: 0.1143\n",
      "epoch: 001 - iter: 01799 - train loss: 4.5260 - time: 0.1011\n",
      "epoch: 001 - iter: 01999 - train loss: 4.4389 - time: 0.1138\n",
      "epoch: 001 - iter: 02199 - train loss: 4.4313 - time: 0.1152\n",
      "epoch: 001 - iter: 02399 - train loss: 4.3477 - time: 0.1175\n",
      "epoch: 001 - iter: 02497 - valid loss: 3.1933 - bleu score: 0.1117 - time: 201.3095\n",
      "epoch: 002 - iter: 00199 - train loss: 4.1471 - time: 0.1153\n",
      "epoch: 002 - iter: 00399 - train loss: 4.1389 - time: 0.1040\n",
      "epoch: 002 - iter: 00599 - train loss: 4.1489 - time: 0.1148\n",
      "epoch: 002 - iter: 00799 - train loss: 4.0735 - time: 0.1181\n",
      "epoch: 002 - iter: 00999 - train loss: 3.9969 - time: 0.1174\n",
      "epoch: 002 - iter: 01199 - train loss: 3.9827 - time: 0.1138\n",
      "epoch: 002 - iter: 01399 - train loss: 3.9515 - time: 0.1129\n",
      "epoch: 002 - iter: 01599 - train loss: 3.9232 - time: 0.1195\n",
      "epoch: 002 - iter: 01799 - train loss: 3.8732 - time: 0.1172\n",
      "epoch: 002 - iter: 01999 - train loss: 3.8248 - time: 0.1142\n",
      "epoch: 002 - iter: 02199 - train loss: 3.8283 - time: 0.1205\n",
      "epoch: 002 - iter: 02399 - train loss: 3.7429 - time: 0.1161\n",
      "epoch: 002 - iter: 02497 - valid loss: 2.8101 - bleu score: 0.1685 - time: 167.1220\n",
      "epoch: 003 - iter: 00199 - train loss: 3.6655 - time: 0.1187\n",
      "epoch: 003 - iter: 00399 - train loss: 3.6383 - time: 0.1153\n",
      "epoch: 003 - iter: 00599 - train loss: 3.6088 - time: 0.1175\n",
      "epoch: 003 - iter: 00799 - train loss: 3.6058 - time: 0.1129\n",
      "epoch: 003 - iter: 00999 - train loss: 3.6246 - time: 0.1177\n",
      "epoch: 003 - iter: 01199 - train loss: 3.5816 - time: 0.1151\n",
      "epoch: 003 - iter: 01399 - train loss: 3.5634 - time: 0.1204\n",
      "epoch: 003 - iter: 01599 - train loss: 3.5630 - time: 0.1136\n",
      "epoch: 003 - iter: 01799 - train loss: 3.5648 - time: 0.1128\n",
      "epoch: 003 - iter: 01999 - train loss: 3.5064 - time: 0.1123\n",
      "epoch: 003 - iter: 02199 - train loss: 3.5014 - time: 0.1127\n",
      "epoch: 003 - iter: 02399 - train loss: 3.4712 - time: 0.1157\n",
      "epoch: 003 - iter: 02497 - valid loss: 2.6240 - bleu score: 0.2093 - time: 177.5588\n",
      "epoch: 004 - iter: 00199 - train loss: 3.4020 - time: 0.1130\n",
      "epoch: 004 - iter: 00399 - train loss: 3.3954 - time: 0.1188\n",
      "epoch: 004 - iter: 00599 - train loss: 3.3508 - time: 0.1024\n",
      "epoch: 004 - iter: 00799 - train loss: 3.3984 - time: 0.1181\n",
      "epoch: 004 - iter: 00999 - train loss: 3.3890 - time: 0.1214\n",
      "epoch: 004 - iter: 01199 - train loss: 3.3276 - time: 0.1117\n",
      "epoch: 004 - iter: 01399 - train loss: 3.3782 - time: 0.1093\n",
      "epoch: 004 - iter: 01599 - train loss: 3.3010 - time: 0.1207\n",
      "epoch: 004 - iter: 01799 - train loss: 3.3608 - time: 0.1125\n",
      "epoch: 004 - iter: 01999 - train loss: 3.3345 - time: 0.1180\n",
      "epoch: 004 - iter: 02199 - train loss: 3.3104 - time: 0.1119\n",
      "epoch: 004 - iter: 02399 - train loss: 3.3061 - time: 0.1128\n",
      "epoch: 004 - iter: 02497 - valid loss: 2.5256 - bleu score: 0.2322 - time: 176.3783\n",
      "epoch: 005 - iter: 00199 - train loss: 3.1620 - time: 0.1215\n",
      "epoch: 005 - iter: 00399 - train loss: 3.2116 - time: 0.1189\n",
      "epoch: 005 - iter: 00599 - train loss: 3.2307 - time: 0.1042\n",
      "epoch: 005 - iter: 00799 - train loss: 3.2142 - time: 0.1012\n",
      "epoch: 005 - iter: 00999 - train loss: 3.2307 - time: 0.1092\n",
      "epoch: 005 - iter: 01199 - train loss: 3.2260 - time: 0.1115\n",
      "epoch: 005 - iter: 01399 - train loss: 3.2283 - time: 0.1118\n",
      "epoch: 005 - iter: 01599 - train loss: 3.2409 - time: 0.1153\n",
      "epoch: 005 - iter: 01799 - train loss: 3.2190 - time: 0.1143\n",
      "epoch: 005 - iter: 01999 - train loss: 3.1629 - time: 0.0950\n",
      "epoch: 005 - iter: 02199 - train loss: 3.1857 - time: 0.1132\n",
      "epoch: 005 - iter: 02399 - train loss: 3.1885 - time: 0.1146\n",
      "epoch: 005 - iter: 02497 - valid loss: 2.4903 - bleu score: 0.2274 - time: 168.7242\n",
      "epoch: 006 - iter: 00199 - train loss: 3.1082 - time: 0.1148\n",
      "epoch: 006 - iter: 00399 - train loss: 3.1104 - time: 0.1129\n",
      "epoch: 006 - iter: 00599 - train loss: 3.1011 - time: 0.1195\n",
      "epoch: 006 - iter: 00799 - train loss: 3.1160 - time: 0.1148\n",
      "epoch: 006 - iter: 00999 - train loss: 3.1345 - time: 0.1164\n",
      "epoch: 006 - iter: 01199 - train loss: 3.1212 - time: 0.1132\n",
      "epoch: 006 - iter: 01399 - train loss: 3.1344 - time: 0.1122\n",
      "epoch: 006 - iter: 01599 - train loss: 3.1032 - time: 0.1166\n",
      "epoch: 006 - iter: 01799 - train loss: 3.0618 - time: 0.1122\n",
      "epoch: 006 - iter: 01999 - train loss: 3.1004 - time: 0.1162\n",
      "epoch: 006 - iter: 02199 - train loss: 3.0988 - time: 0.1134\n",
      "epoch: 006 - iter: 02399 - train loss: 3.0435 - time: 0.1028\n",
      "epoch: 006 - iter: 02497 - valid loss: 2.4341 - bleu score: 0.2485 - time: 182.2163\n",
      "epoch: 007 - iter: 00199 - train loss: 3.0399 - time: 0.1167\n",
      "epoch: 007 - iter: 00399 - train loss: 3.0054 - time: 0.1061\n",
      "epoch: 007 - iter: 00599 - train loss: 3.0168 - time: 0.1131\n",
      "epoch: 007 - iter: 00799 - train loss: 2.9952 - time: 0.1156\n",
      "epoch: 007 - iter: 00999 - train loss: 3.0359 - time: 0.1123\n",
      "epoch: 007 - iter: 01199 - train loss: 3.0374 - time: 0.1088\n",
      "epoch: 007 - iter: 01399 - train loss: 3.0269 - time: 0.1033\n",
      "epoch: 007 - iter: 01599 - train loss: 3.0128 - time: 0.1181\n",
      "epoch: 007 - iter: 01799 - train loss: 3.0120 - time: 0.1106\n",
      "epoch: 007 - iter: 01999 - train loss: 3.0180 - time: 0.1165\n",
      "epoch: 007 - iter: 02199 - train loss: 3.0083 - time: 0.0965\n",
      "epoch: 007 - iter: 02399 - train loss: 3.0264 - time: 0.1152\n",
      "epoch: 007 - iter: 02497 - valid loss: 2.4043 - bleu score: 0.2517 - time: 177.6228\n",
      "epoch: 008 - iter: 00199 - train loss: 2.9188 - time: 0.1129\n",
      "epoch: 008 - iter: 00399 - train loss: 2.9702 - time: 0.0968\n",
      "epoch: 008 - iter: 00599 - train loss: 2.9496 - time: 0.1130\n",
      "epoch: 008 - iter: 00799 - train loss: 2.9335 - time: 0.1149\n",
      "epoch: 008 - iter: 00999 - train loss: 2.9702 - time: 0.1185\n",
      "epoch: 008 - iter: 01199 - train loss: 2.9648 - time: 0.1122\n",
      "epoch: 008 - iter: 01399 - train loss: 2.9328 - time: 0.1098\n",
      "epoch: 008 - iter: 01599 - train loss: 2.9569 - time: 0.1143\n",
      "epoch: 008 - iter: 01799 - train loss: 2.9701 - time: 0.1161\n",
      "epoch: 008 - iter: 01999 - train loss: 2.9276 - time: 0.1205\n",
      "epoch: 008 - iter: 02199 - train loss: 2.9723 - time: 0.1036\n",
      "epoch: 008 - iter: 02399 - train loss: 2.9527 - time: 0.1114\n",
      "epoch: 008 - iter: 02497 - valid loss: 2.3863 - bleu score: 0.2516 - time: 181.8941\n",
      "epoch: 009 - iter: 00199 - train loss: 2.8813 - time: 0.1130\n",
      "epoch: 009 - iter: 00399 - train loss: 2.8943 - time: 0.1203\n",
      "epoch: 009 - iter: 00599 - train loss: 2.8767 - time: 0.1121\n",
      "epoch: 009 - iter: 00799 - train loss: 2.8942 - time: 0.1126\n",
      "epoch: 009 - iter: 00999 - train loss: 2.8932 - time: 0.1189\n",
      "epoch: 009 - iter: 01199 - train loss: 2.8949 - time: 0.1121\n",
      "epoch: 009 - iter: 01399 - train loss: 2.9355 - time: 0.1177\n",
      "epoch: 009 - iter: 01599 - train loss: 2.8739 - time: 0.0892\n",
      "epoch: 009 - iter: 01799 - train loss: 2.9143 - time: 0.1032\n",
      "epoch: 009 - iter: 01999 - train loss: 2.8726 - time: 0.1171\n",
      "epoch: 009 - iter: 02199 - train loss: 2.9257 - time: 0.1149\n",
      "epoch: 009 - iter: 02399 - train loss: 2.8683 - time: 0.1062\n",
      "epoch: 009 - iter: 02497 - valid loss: 2.3756 - bleu score: 0.2525 - time: 181.3818\n",
      "epoch: 010 - iter: 00199 - train loss: 2.8357 - time: 0.1123\n",
      "epoch: 010 - iter: 00399 - train loss: 2.8129 - time: 0.1186\n",
      "epoch: 010 - iter: 00599 - train loss: 2.8265 - time: 0.1079\n",
      "epoch: 010 - iter: 00799 - train loss: 2.8413 - time: 0.1032\n",
      "epoch: 010 - iter: 00999 - train loss: 2.8333 - time: 0.1122\n",
      "epoch: 010 - iter: 01199 - train loss: 2.8653 - time: 0.1155\n",
      "epoch: 010 - iter: 01399 - train loss: 2.8639 - time: 0.1184\n",
      "epoch: 010 - iter: 01599 - train loss: 2.8423 - time: 0.1041\n",
      "epoch: 010 - iter: 01799 - train loss: 2.8729 - time: 0.1150\n",
      "epoch: 010 - iter: 01999 - train loss: 2.8476 - time: 0.1119\n",
      "epoch: 010 - iter: 02199 - train loss: 2.8263 - time: 0.1146\n",
      "epoch: 010 - iter: 02399 - train loss: 2.8730 - time: 0.1141\n",
      "epoch: 010 - iter: 02497 - valid loss: 2.3640 - bleu score: 0.2553 - time: 179.1577\n",
      "epoch: 011 - iter: 00199 - train loss: 2.7483 - time: 0.1117\n",
      "epoch: 011 - iter: 00399 - train loss: 2.8167 - time: 0.1178\n",
      "epoch: 011 - iter: 00599 - train loss: 2.8282 - time: 0.1125\n",
      "epoch: 011 - iter: 00799 - train loss: 2.7829 - time: 0.1107\n",
      "epoch: 011 - iter: 00999 - train loss: 2.7938 - time: 0.1150\n",
      "epoch: 011 - iter: 01199 - train loss: 2.8034 - time: 0.1122\n",
      "epoch: 011 - iter: 01399 - train loss: 2.8002 - time: 0.1128\n",
      "epoch: 011 - iter: 01599 - train loss: 2.8032 - time: 0.1113\n",
      "epoch: 011 - iter: 01799 - train loss: 2.7867 - time: 0.1006\n",
      "epoch: 011 - iter: 01999 - train loss: 2.8029 - time: 0.1181\n",
      "epoch: 011 - iter: 02199 - train loss: 2.8357 - time: 0.1048\n",
      "epoch: 011 - iter: 02399 - train loss: 2.8090 - time: 0.1149\n",
      "epoch: 011 - iter: 02497 - valid loss: 2.3581 - bleu score: 0.2592 - time: 178.4255\n",
      "epoch: 012 - iter: 00199 - train loss: 2.7525 - time: 0.1051\n",
      "epoch: 012 - iter: 00399 - train loss: 2.7243 - time: 0.1191\n",
      "epoch: 012 - iter: 00599 - train loss: 2.7597 - time: 0.1082\n",
      "epoch: 012 - iter: 00799 - train loss: 2.7406 - time: 0.1150\n",
      "epoch: 012 - iter: 00999 - train loss: 2.7667 - time: 0.1145\n",
      "epoch: 012 - iter: 01199 - train loss: 2.7653 - time: 0.1189\n",
      "epoch: 012 - iter: 01399 - train loss: 2.7493 - time: 0.1122\n",
      "epoch: 012 - iter: 01599 - train loss: 2.7629 - time: 0.1182\n",
      "epoch: 012 - iter: 01799 - train loss: 2.7555 - time: 0.1138\n",
      "epoch: 012 - iter: 01999 - train loss: 2.7966 - time: 0.1197\n",
      "epoch: 012 - iter: 02199 - train loss: 2.7778 - time: 0.1211\n",
      "epoch: 012 - iter: 02399 - train loss: 2.7821 - time: 0.1145\n",
      "epoch: 012 - iter: 02497 - valid loss: 2.3558 - bleu score: 0.2594 - time: 181.4841\n",
      "epoch: 013 - iter: 00199 - train loss: 2.7162 - time: 0.1143\n",
      "epoch: 013 - iter: 00399 - train loss: 2.6987 - time: 0.1162\n",
      "epoch: 013 - iter: 00599 - train loss: 2.6927 - time: 0.1133\n",
      "epoch: 013 - iter: 00799 - train loss: 2.7083 - time: 0.1206\n",
      "epoch: 013 - iter: 00999 - train loss: 2.6965 - time: 0.1135\n",
      "epoch: 013 - iter: 01199 - train loss: 2.6945 - time: 0.1211\n",
      "epoch: 013 - iter: 01399 - train loss: 2.7316 - time: 0.1211\n",
      "epoch: 013 - iter: 01599 - train loss: 2.7564 - time: 0.1116\n",
      "epoch: 013 - iter: 01799 - train loss: 2.7343 - time: 0.1041\n",
      "epoch: 013 - iter: 01999 - train loss: 2.7664 - time: 0.1038\n",
      "epoch: 013 - iter: 02199 - train loss: 2.7607 - time: 0.1101\n",
      "epoch: 013 - iter: 02399 - train loss: 2.7750 - time: 0.1053\n",
      "epoch: 013 - iter: 02497 - valid loss: 2.3519 - bleu score: 0.2566 - time: 178.6552\n",
      "epoch: 014 - iter: 00199 - train loss: 2.6309 - time: 0.0991\n",
      "epoch: 014 - iter: 00399 - train loss: 2.6701 - time: 0.1050\n",
      "epoch: 014 - iter: 00599 - train loss: 2.6951 - time: 0.1150\n",
      "epoch: 014 - iter: 00799 - train loss: 2.6692 - time: 0.1125\n",
      "epoch: 014 - iter: 00999 - train loss: 2.7264 - time: 0.1126\n",
      "epoch: 014 - iter: 01199 - train loss: 2.7139 - time: 0.1107\n",
      "epoch: 014 - iter: 01399 - train loss: 2.6952 - time: 0.1158\n",
      "epoch: 014 - iter: 01599 - train loss: 2.6714 - time: 0.1161\n",
      "epoch: 014 - iter: 01799 - train loss: 2.7053 - time: 0.1130\n",
      "epoch: 014 - iter: 01999 - train loss: 2.7186 - time: 0.1061\n",
      "epoch: 014 - iter: 02199 - train loss: 2.7048 - time: 0.1148\n",
      "epoch: 014 - iter: 02399 - train loss: 2.7115 - time: 0.1001\n",
      "epoch: 014 - iter: 02497 - valid loss: 2.3530 - bleu score: 0.2566 - time: 181.5243\n",
      "epoch: 015 - iter: 00199 - train loss: 2.6315 - time: 0.1131\n",
      "epoch: 015 - iter: 00399 - train loss: 2.6565 - time: 0.1149\n",
      "epoch: 015 - iter: 00599 - train loss: 2.6579 - time: 0.1205\n",
      "epoch: 015 - iter: 00799 - train loss: 2.6326 - time: 0.1115\n",
      "epoch: 015 - iter: 00999 - train loss: 2.6535 - time: 0.1181\n",
      "epoch: 015 - iter: 01199 - train loss: 2.6654 - time: 0.1112\n",
      "epoch: 015 - iter: 01399 - train loss: 2.6787 - time: 0.1011\n",
      "epoch: 015 - iter: 01599 - train loss: 2.6693 - time: 0.1136\n",
      "epoch: 015 - iter: 01799 - train loss: 2.6604 - time: 0.1147\n",
      "epoch: 015 - iter: 01999 - train loss: 2.6965 - time: 0.1151\n",
      "epoch: 015 - iter: 02199 - train loss: 2.6473 - time: 0.1089\n",
      "epoch: 015 - iter: 02399 - train loss: 2.6914 - time: 0.1138\n",
      "epoch: 015 - iter: 02497 - valid loss: 2.3552 - bleu score: 0.2566 - time: 179.9127\n",
      "epoch: 016 - iter: 00199 - train loss: 2.6333 - time: 0.1217\n",
      "epoch: 016 - iter: 00399 - train loss: 2.6323 - time: 0.1213\n",
      "epoch: 016 - iter: 00599 - train loss: 2.6170 - time: 0.1116\n",
      "epoch: 016 - iter: 00799 - train loss: 2.6172 - time: 0.1188\n",
      "epoch: 016 - iter: 00999 - train loss: 2.6156 - time: 0.1146\n",
      "epoch: 016 - iter: 01199 - train loss: 2.6423 - time: 0.1172\n",
      "epoch: 016 - iter: 01399 - train loss: 2.6060 - time: 0.1065\n",
      "epoch: 016 - iter: 01599 - train loss: 2.6235 - time: 0.1135\n",
      "epoch: 016 - iter: 01799 - train loss: 2.6205 - time: 0.1142\n",
      "epoch: 016 - iter: 01999 - train loss: 2.6883 - time: 0.1202\n",
      "epoch: 016 - iter: 02199 - train loss: 2.6501 - time: 0.1154\n",
      "epoch: 016 - iter: 02399 - train loss: 2.6507 - time: 0.1168\n",
      "epoch: 016 - iter: 02497 - valid loss: 2.3498 - bleu score: 0.2590 - time: 181.6488\n",
      "epoch: 017 - iter: 00199 - train loss: 2.6053 - time: 0.1205\n",
      "epoch: 017 - iter: 00399 - train loss: 2.5837 - time: 0.1186\n",
      "epoch: 017 - iter: 00599 - train loss: 2.5765 - time: 0.1126\n",
      "epoch: 017 - iter: 00799 - train loss: 2.5818 - time: 0.1176\n",
      "epoch: 017 - iter: 00999 - train loss: 2.6018 - time: 0.1148\n",
      "epoch: 017 - iter: 01199 - train loss: 2.6457 - time: 0.1187\n",
      "epoch: 017 - iter: 01399 - train loss: 2.5991 - time: 0.1153\n",
      "epoch: 017 - iter: 01599 - train loss: 2.6126 - time: 0.1111\n",
      "epoch: 017 - iter: 01799 - train loss: 2.5964 - time: 0.1089\n",
      "epoch: 017 - iter: 01999 - train loss: 2.6218 - time: 0.1122\n",
      "epoch: 017 - iter: 02199 - train loss: 2.6132 - time: 0.1058\n",
      "epoch: 017 - iter: 02399 - train loss: 2.6391 - time: 0.1139\n",
      "epoch: 017 - iter: 02497 - valid loss: 2.3495 - bleu score: 0.2585 - time: 180.3614\n",
      "epoch: 018 - iter: 00199 - train loss: 2.5263 - time: 0.1176\n",
      "epoch: 018 - iter: 00399 - train loss: 2.5674 - time: 0.1170\n",
      "epoch: 018 - iter: 00599 - train loss: 2.5786 - time: 0.1148\n",
      "epoch: 018 - iter: 00799 - train loss: 2.5988 - time: 0.1092\n",
      "epoch: 018 - iter: 00999 - train loss: 2.5860 - time: 0.0989\n",
      "epoch: 018 - iter: 01199 - train loss: 2.5947 - time: 0.1200\n",
      "epoch: 018 - iter: 01399 - train loss: 2.5890 - time: 0.1194\n",
      "epoch: 018 - iter: 01599 - train loss: 2.5795 - time: 0.1164\n",
      "epoch: 018 - iter: 01799 - train loss: 2.5761 - time: 0.1144\n",
      "epoch: 018 - iter: 01999 - train loss: 2.5972 - time: 0.1129\n",
      "epoch: 018 - iter: 02199 - train loss: 2.5978 - time: 0.1202\n",
      "epoch: 018 - iter: 02399 - train loss: 2.6032 - time: 0.1186\n",
      "epoch: 018 - iter: 02497 - valid loss: 2.3581 - bleu score: 0.2613 - time: 182.1509\n",
      "epoch: 019 - iter: 00199 - train loss: 2.5364 - time: 0.1179\n",
      "epoch: 019 - iter: 00399 - train loss: 2.5421 - time: 0.1098\n",
      "epoch: 019 - iter: 00599 - train loss: 2.5523 - time: 0.1157\n",
      "epoch: 019 - iter: 00799 - train loss: 2.5309 - time: 0.1020\n",
      "epoch: 019 - iter: 00999 - train loss: 2.5505 - time: 0.1150\n",
      "epoch: 019 - iter: 01199 - train loss: 2.5252 - time: 0.1171\n",
      "epoch: 019 - iter: 01399 - train loss: 2.5643 - time: 0.1172\n",
      "epoch: 019 - iter: 01599 - train loss: 2.5623 - time: 0.1125\n",
      "epoch: 019 - iter: 01799 - train loss: 2.5749 - time: 0.1190\n",
      "epoch: 019 - iter: 01999 - train loss: 2.5883 - time: 0.1145\n",
      "epoch: 019 - iter: 02199 - train loss: 2.5756 - time: 0.1127\n",
      "epoch: 019 - iter: 02399 - train loss: 2.6022 - time: 0.1186\n",
      "epoch: 019 - iter: 02497 - valid loss: 2.3592 - bleu score: 0.2593 - time: 177.9300\n",
      "epoch: 020 - iter: 00199 - train loss: 2.5104 - time: 0.1006\n",
      "epoch: 020 - iter: 00399 - train loss: 2.5250 - time: 0.1188\n",
      "epoch: 020 - iter: 00599 - train loss: 2.5156 - time: 0.1026\n",
      "epoch: 020 - iter: 00799 - train loss: 2.5402 - time: 0.1153\n",
      "epoch: 020 - iter: 00999 - train loss: 2.5182 - time: 0.1140\n",
      "epoch: 020 - iter: 01199 - train loss: 2.5056 - time: 0.1158\n",
      "epoch: 020 - iter: 01399 - train loss: 2.5172 - time: 0.1127\n",
      "epoch: 020 - iter: 01599 - train loss: 2.5264 - time: 0.1120\n",
      "epoch: 020 - iter: 01799 - train loss: 2.5687 - time: 0.1185\n",
      "epoch: 020 - iter: 01999 - train loss: 2.5406 - time: 0.1234\n",
      "epoch: 020 - iter: 02199 - train loss: 2.5616 - time: 0.1180\n",
      "epoch: 020 - iter: 02399 - train loss: 2.5723 - time: 0.1149\n",
      "epoch: 020 - iter: 02497 - valid loss: 2.3582 - bleu score: 0.2608 - time: 180.5428\n",
      "epoch: 021 - iter: 00199 - train loss: 2.5125 - time: 0.1163\n",
      "epoch: 021 - iter: 00399 - train loss: 2.4959 - time: 0.1092\n",
      "epoch: 021 - iter: 00599 - train loss: 2.4946 - time: 0.1181\n",
      "epoch: 021 - iter: 00799 - train loss: 2.5132 - time: 0.1129\n",
      "epoch: 021 - iter: 00999 - train loss: 2.4977 - time: 0.1183\n",
      "epoch: 021 - iter: 01199 - train loss: 2.5145 - time: 0.1180\n",
      "epoch: 021 - iter: 01399 - train loss: 2.5132 - time: 0.1090\n",
      "epoch: 021 - iter: 01599 - train loss: 2.5359 - time: 0.1084\n",
      "epoch: 021 - iter: 01799 - train loss: 2.4885 - time: 0.1188\n",
      "epoch: 021 - iter: 01999 - train loss: 2.5144 - time: 0.1102\n",
      "epoch: 021 - iter: 02199 - train loss: 2.5350 - time: 0.1121\n",
      "epoch: 021 - iter: 02399 - train loss: 2.5431 - time: 0.1148\n",
      "epoch: 021 - iter: 02497 - valid loss: 2.3656 - bleu score: 0.2618 - time: 178.8532\n",
      "epoch: 022 - iter: 00199 - train loss: 2.4633 - time: 0.1222\n",
      "epoch: 022 - iter: 00399 - train loss: 2.4536 - time: 0.1151\n",
      "epoch: 022 - iter: 00599 - train loss: 2.4962 - time: 0.1124\n",
      "epoch: 022 - iter: 00799 - train loss: 2.4937 - time: 0.1163\n",
      "epoch: 022 - iter: 00999 - train loss: 2.4777 - time: 0.1138\n",
      "epoch: 022 - iter: 01199 - train loss: 2.4945 - time: 0.1144\n",
      "epoch: 022 - iter: 01399 - train loss: 2.5060 - time: 0.1128\n",
      "epoch: 022 - iter: 01599 - train loss: 2.5044 - time: 0.1103\n",
      "epoch: 022 - iter: 01799 - train loss: 2.5025 - time: 0.1209\n",
      "epoch: 022 - iter: 01999 - train loss: 2.4952 - time: 0.1153\n",
      "epoch: 022 - iter: 02199 - train loss: 2.5065 - time: 0.1005\n",
      "epoch: 022 - iter: 02399 - train loss: 2.5065 - time: 0.1114\n",
      "epoch: 022 - iter: 02497 - valid loss: 2.3682 - bleu score: 0.2638 - time: 181.4585\n",
      "epoch: 023 - iter: 00199 - train loss: 2.4159 - time: 0.1094\n",
      "epoch: 023 - iter: 00399 - train loss: 2.4600 - time: 0.1141\n",
      "epoch: 023 - iter: 00599 - train loss: 2.4919 - time: 0.1138\n",
      "epoch: 023 - iter: 00799 - train loss: 2.4721 - time: 0.1138\n",
      "epoch: 023 - iter: 00999 - train loss: 2.4624 - time: 0.1100\n",
      "epoch: 023 - iter: 01199 - train loss: 2.4568 - time: 0.1143\n",
      "epoch: 023 - iter: 01399 - train loss: 2.4884 - time: 0.1153\n",
      "epoch: 023 - iter: 01599 - train loss: 2.4466 - time: 0.1234\n",
      "epoch: 023 - iter: 01799 - train loss: 2.4873 - time: 0.1099\n",
      "epoch: 023 - iter: 01999 - train loss: 2.5007 - time: 0.1127\n",
      "epoch: 023 - iter: 02199 - train loss: 2.4819 - time: 0.1135\n",
      "epoch: 023 - iter: 02399 - train loss: 2.5171 - time: 0.1187\n",
      "epoch: 023 - iter: 02497 - valid loss: 2.3690 - bleu score: 0.2610 - time: 186.1196\n",
      "epoch: 024 - iter: 00199 - train loss: 2.4340 - time: 0.1205\n",
      "epoch: 024 - iter: 00399 - train loss: 2.4173 - time: 0.1184\n",
      "epoch: 024 - iter: 00599 - train loss: 2.4212 - time: 0.1151\n",
      "epoch: 024 - iter: 00799 - train loss: 2.4523 - time: 0.1197\n",
      "epoch: 024 - iter: 00999 - train loss: 2.4477 - time: 0.1084\n",
      "epoch: 024 - iter: 01199 - train loss: 2.4643 - time: 0.1189\n",
      "epoch: 024 - iter: 01399 - train loss: 2.4364 - time: 0.1137\n",
      "epoch: 024 - iter: 01599 - train loss: 2.4621 - time: 0.1134\n",
      "epoch: 024 - iter: 01799 - train loss: 2.4769 - time: 0.1141\n",
      "epoch: 024 - iter: 01999 - train loss: 2.4857 - time: 0.1202\n",
      "epoch: 024 - iter: 02199 - train loss: 2.4770 - time: 0.1134\n",
      "epoch: 024 - iter: 02399 - train loss: 2.4718 - time: 0.1175\n",
      "epoch: 024 - iter: 02497 - valid loss: 2.3787 - bleu score: 0.2589 - time: 180.2737\n",
      "epoch: 025 - iter: 00199 - train loss: 2.4311 - time: 0.1192\n",
      "epoch: 025 - iter: 00399 - train loss: 2.4261 - time: 0.1115\n",
      "epoch: 025 - iter: 00599 - train loss: 2.4345 - time: 0.1124\n",
      "epoch: 025 - iter: 00799 - train loss: 2.4343 - time: 0.1074\n",
      "epoch: 025 - iter: 00999 - train loss: 2.4459 - time: 0.1138\n",
      "epoch: 025 - iter: 01199 - train loss: 2.4463 - time: 0.1093\n",
      "epoch: 025 - iter: 01399 - train loss: 2.4373 - time: 0.1108\n",
      "epoch: 025 - iter: 01599 - train loss: 2.4222 - time: 0.1019\n",
      "epoch: 025 - iter: 01799 - train loss: 2.4355 - time: 0.1024\n",
      "epoch: 025 - iter: 01999 - train loss: 2.4186 - time: 0.1096\n",
      "epoch: 025 - iter: 02199 - train loss: 2.4634 - time: 0.1104\n",
      "epoch: 025 - iter: 02399 - train loss: 2.4446 - time: 0.1151\n",
      "epoch: 025 - iter: 02497 - valid loss: 2.3747 - bleu score: 0.2619 - time: 184.3901\n",
      "epoch: 026 - iter: 00199 - train loss: 2.4228 - time: 0.1194\n",
      "epoch: 026 - iter: 00399 - train loss: 2.3877 - time: 0.1146\n",
      "epoch: 026 - iter: 00599 - train loss: 2.3929 - time: 0.1203\n",
      "epoch: 026 - iter: 00799 - train loss: 2.3987 - time: 0.1015\n",
      "epoch: 026 - iter: 00999 - train loss: 2.4221 - time: 0.1091\n",
      "epoch: 026 - iter: 01199 - train loss: 2.4298 - time: 0.1038\n",
      "epoch: 026 - iter: 01399 - train loss: 2.4041 - time: 0.1228\n",
      "epoch: 026 - iter: 01599 - train loss: 2.4288 - time: 0.1192\n",
      "epoch: 026 - iter: 01799 - train loss: 2.4341 - time: 0.1117\n",
      "epoch: 026 - iter: 01999 - train loss: 2.4403 - time: 0.1125\n",
      "epoch: 026 - iter: 02199 - train loss: 2.4426 - time: 0.1130\n",
      "epoch: 026 - iter: 02399 - train loss: 2.4254 - time: 0.1172\n",
      "epoch: 026 - iter: 02497 - valid loss: 2.3842 - bleu score: 0.2559 - time: 182.8849\n",
      "epoch: 027 - iter: 00199 - train loss: 2.3796 - time: 0.1125\n",
      "epoch: 027 - iter: 00399 - train loss: 2.3519 - time: 0.1105\n",
      "epoch: 027 - iter: 00599 - train loss: 2.4046 - time: 0.1019\n",
      "epoch: 027 - iter: 00799 - train loss: 2.4048 - time: 0.1101\n",
      "epoch: 027 - iter: 00999 - train loss: 2.4019 - time: 0.1140\n",
      "epoch: 027 - iter: 01199 - train loss: 2.3938 - time: 0.1211\n",
      "epoch: 027 - iter: 01399 - train loss: 2.3978 - time: 0.1194\n",
      "epoch: 027 - iter: 01599 - train loss: 2.4332 - time: 0.1207\n",
      "epoch: 027 - iter: 01799 - train loss: 2.4181 - time: 0.1150\n",
      "epoch: 027 - iter: 01999 - train loss: 2.4222 - time: 0.0942\n",
      "epoch: 027 - iter: 02199 - train loss: 2.4018 - time: 0.1094\n",
      "epoch: 027 - iter: 02399 - train loss: 2.3993 - time: 0.1126\n",
      "epoch: 027 - iter: 02497 - valid loss: 2.3869 - bleu score: 0.2596 - time: 181.1620\n",
      "epoch: 028 - iter: 00199 - train loss: 2.3664 - time: 0.1167\n",
      "epoch: 028 - iter: 00399 - train loss: 2.3920 - time: 0.1151\n",
      "epoch: 028 - iter: 00599 - train loss: 2.3638 - time: 0.1039\n",
      "epoch: 028 - iter: 00799 - train loss: 2.3711 - time: 0.1024\n",
      "epoch: 028 - iter: 00999 - train loss: 2.3770 - time: 0.1172\n",
      "epoch: 028 - iter: 01199 - train loss: 2.3977 - time: 0.1170\n",
      "epoch: 028 - iter: 01399 - train loss: 2.3794 - time: 0.1132\n",
      "epoch: 028 - iter: 01599 - train loss: 2.3912 - time: 0.1178\n",
      "epoch: 028 - iter: 01799 - train loss: 2.3921 - time: 0.1156\n",
      "epoch: 028 - iter: 01999 - train loss: 2.4043 - time: 0.1149\n",
      "epoch: 028 - iter: 02199 - train loss: 2.3691 - time: 0.1130\n",
      "epoch: 028 - iter: 02399 - train loss: 2.4143 - time: 0.1177\n",
      "epoch: 028 - iter: 02497 - valid loss: 2.3893 - bleu score: 0.2566 - time: 181.9665\n",
      "epoch: 029 - iter: 00199 - train loss: 2.3298 - time: 0.1004\n",
      "epoch: 029 - iter: 00399 - train loss: 2.3745 - time: 0.1190\n",
      "epoch: 029 - iter: 00599 - train loss: 2.3822 - time: 0.1181\n",
      "epoch: 029 - iter: 00799 - train loss: 2.3590 - time: 0.1062\n",
      "epoch: 029 - iter: 00999 - train loss: 2.3637 - time: 0.1130\n",
      "epoch: 029 - iter: 01199 - train loss: 2.3644 - time: 0.1132\n",
      "epoch: 029 - iter: 01399 - train loss: 2.3607 - time: 0.1174\n",
      "epoch: 029 - iter: 01599 - train loss: 2.3547 - time: 0.1181\n",
      "epoch: 029 - iter: 01799 - train loss: 2.3731 - time: 0.1122\n",
      "epoch: 029 - iter: 01999 - train loss: 2.3902 - time: 0.0981\n",
      "epoch: 029 - iter: 02199 - train loss: 2.3704 - time: 0.1172\n",
      "epoch: 029 - iter: 02399 - train loss: 2.4034 - time: 0.1205\n",
      "epoch: 029 - iter: 02497 - valid loss: 2.3956 - bleu score: 0.2597 - time: 182.3342\n"
     ]
    }
   ],
   "source": [
    "import time\n",
    "\n",
    "for epoch in range(opt['epochs']):\n",
    "    total_loss = 0\n",
    "\n",
    "    for i, batch in enumerate(train_iter):\n",
    "        s = time.time()\n",
    "        loss = step(model, optimizer, batch, criterion)\n",
    "\n",
    "        total_loss += loss\n",
    "\n",
    "        if (i + 1) % opt['printevery'] == 0:\n",
    "            avg_loss = total_loss/opt['printevery']\n",
    "            print('epoch: {:03d} - iter: {:05d} - train loss: {:.4f} - time: {:.4f}'.format(epoch, i, avg_loss, time.time()- s))\n",
    "            total_loss = 0\n",
    "\n",
    "    s = time.time()\n",
    "    valid_loss = validiate(model, valid_iter, criterion)\n",
    "    bleuscore = bleu(valid_src_data[:500], valid_trg_data[:500], model, SRC, TRG, opt['device'], opt['k'], opt['max_strlen'])\n",
    "    print('epoch: {:03d} - iter: {:05d} - valid loss: {:.4f} - bleu score: {:.4f} - time: {:.4f}'.format(epoch, i, valid_loss, bleuscore, time.time() - s))\n"
   ]
  },
  {
   "cell_type": "code",
   "execution_count": 34,
   "id": "212b3dd6",
   "metadata": {
    "execution": {
     "iopub.execute_input": "2025-07-27T18:08:08.869870Z",
     "iopub.status.busy": "2025-07-27T18:08:08.869598Z",
     "iopub.status.idle": "2025-07-27T18:16:04.380081Z",
     "shell.execute_reply": "2025-07-27T18:16:04.379429Z"
    },
    "id": "v5E8G0-8QFbj",
    "papermill": {
     "duration": 475.626615,
     "end_time": "2025-07-27T18:16:04.442497",
     "exception": false,
     "start_time": "2025-07-27T18:08:08.815882",
     "status": "completed"
    },
    "tags": []
   },
   "outputs": [
    {
     "data": {
      "text/plain": [
       "0.25960326194763184"
      ]
     },
     "execution_count": 34,
     "metadata": {},
     "output_type": "execute_result"
    }
   ],
   "source": [
    "bleu(valid_src_data, valid_trg_data, model, SRC, TRG, opt['device'], opt['k'], opt['max_strlen'])"
   ]
  },
  {
   "cell_type": "code",
   "execution_count": 35,
   "id": "92947189",
   "metadata": {
    "colab": {
     "base_uri": "https://localhost:8080/",
     "height": 35
    },
    "execution": {
     "iopub.execute_input": "2025-07-27T18:16:04.547875Z",
     "iopub.status.busy": "2025-07-27T18:16:04.547639Z",
     "iopub.status.idle": "2025-07-27T18:16:04.835494Z",
     "shell.execute_reply": "2025-07-27T18:16:04.834845Z"
    },
    "id": "0CwtdJeUNQJo",
    "outputId": "190c4a93-436a-4b00-832b-ae8f4c183fe4",
    "papermill": {
     "duration": 0.341859,
     "end_time": "2025-07-27T18:16:04.836634",
     "exception": false,
     "start_time": "2025-07-27T18:16:04.494775",
     "status": "completed"
    },
    "tags": []
   },
   "outputs": [
    {
     "data": {
      "text/plain": [
       "'gia đình tôi không nghèo, và bản thân tôi, tôi chưa bao giờ trải qua sự đói kém.'"
      ]
     },
     "execution_count": 35,
     "metadata": {},
     "output_type": "execute_result"
    }
   ],
   "source": [
    "sentence='My family was not poor , and myself , I had never experienced hunger .'\n",
    "trans_sent = translate_sentence(sentence, model, SRC, TRG, opt['device'], opt['k'], opt['max_strlen'])\n",
    "trans_sent"
   ]
  },
  {
   "cell_type": "markdown",
   "id": "2dcdeea9",
   "metadata": {
    "id": "A7UYpmmqj31m",
    "papermill": {
     "duration": 0.052124,
     "end_time": "2025-07-27T18:16:04.942255",
     "exception": false,
     "start_time": "2025-07-27T18:16:04.890131",
     "status": "completed"
    },
    "tags": []
   },
   "source": [
    "# Visualize"
   ]
  },
  {
   "cell_type": "markdown",
   "id": "9427803a",
   "metadata": {
    "id": "ubjbXZIbjn2l",
    "papermill": {
     "duration": 0.052468,
     "end_time": "2025-07-27T18:16:05.047131",
     "exception": false,
     "start_time": "2025-07-27T18:16:04.994663",
     "status": "completed"
    },
    "tags": []
   },
   "source": [
    "Nếu các bạn không muốn train tốn thời gian thì có thể sử dụng uncomment để download model mình đã train nhé."
   ]
  },
  {
   "cell_type": "code",
   "execution_count": 36,
   "id": "d2479102",
   "metadata": {
    "execution": {
     "iopub.execute_input": "2025-07-27T18:16:05.153123Z",
     "iopub.status.busy": "2025-07-27T18:16:05.152869Z",
     "iopub.status.idle": "2025-07-27T18:16:05.156102Z",
     "shell.execute_reply": "2025-07-27T18:16:05.155584Z"
    },
    "id": "SuqS-kD90jbQ",
    "papermill": {
     "duration": 0.05765,
     "end_time": "2025-07-27T18:16:05.157121",
     "exception": false,
     "start_time": "2025-07-27T18:16:05.099471",
     "status": "completed"
    },
    "tags": []
   },
   "outputs": [],
   "source": [
    "# ! gdown --id 1Ty1bGrd0sCwEqXhsoViCUaNKa3lFwmPH\n",
    "# model.load_state_dict(torch.load('./transformer.pth'))"
   ]
  },
  {
   "cell_type": "code",
   "execution_count": 37,
   "id": "7ef68a80",
   "metadata": {
    "execution": {
     "iopub.execute_input": "2025-07-27T18:16:05.263157Z",
     "iopub.status.busy": "2025-07-27T18:16:05.262913Z",
     "iopub.status.idle": "2025-07-27T18:16:05.544236Z",
     "shell.execute_reply": "2025-07-27T18:16:05.543343Z"
    },
    "id": "vHeTea84_bDP",
    "papermill": {
     "duration": 0.336589,
     "end_time": "2025-07-27T18:16:05.545919",
     "exception": false,
     "start_time": "2025-07-27T18:16:05.209330",
     "status": "completed"
    },
    "tags": []
   },
   "outputs": [],
   "source": [
    "import seaborn\n",
    "import matplotlib.pyplot as plt\n",
    "\n",
    "def draw(data, x, y, ax):\n",
    "    seaborn.heatmap(data,\n",
    "                    xticklabels=x, square=True, yticklabels=y, vmin=0.0, vmax=1.0,\n",
    "                    cbar=False, ax=ax, annot=False)"
   ]
  },
  {
   "cell_type": "markdown",
   "id": "51af785d",
   "metadata": {
    "id": "izoCgA3zNR2i",
    "papermill": {
     "duration": 0.05193,
     "end_time": "2025-07-27T18:16:05.651664",
     "exception": false,
     "start_time": "2025-07-27T18:16:05.599734",
     "status": "completed"
    },
    "tags": []
   },
   "source": [
    "# Visualize Encoder\n",
    "Dùng heatmap để visualize giá trị attention sẽ cho chúng ta biết khi encode một câu mô hình chú ý từ gì ở lân cận"
   ]
  },
  {
   "cell_type": "code",
   "execution_count": 38,
   "id": "0efc82f5",
   "metadata": {
    "colab": {
     "base_uri": "https://localhost:8080/",
     "height": 1000
    },
    "execution": {
     "iopub.execute_input": "2025-07-27T18:16:05.756424Z",
     "iopub.status.busy": "2025-07-27T18:16:05.755958Z",
     "iopub.status.idle": "2025-07-27T18:16:07.991586Z",
     "shell.execute_reply": "2025-07-27T18:16:07.990816Z"
    },
    "id": "rV57CMAZ9XR8",
    "outputId": "f88e1760-07c7-4d0a-a557-e78f24cd3a75",
    "papermill": {
     "duration": 2.289218,
     "end_time": "2025-07-27T18:16:07.992823",
     "exception": false,
     "start_time": "2025-07-27T18:16:05.703605",
     "status": "completed"
    },
    "tags": []
   },
   "outputs": [
    {
     "name": "stdout",
     "output_type": "stream",
     "text": [
      "Encoder Layer 2\n"
     ]
    },
    {
     "data": {
      "image/png": "[encoded data removed]",
      "text/plain": [
       "<Figure size 3000x1500 with 4 Axes>"
      ]
     },
     "metadata": {},
     "output_type": "display_data"
    },
    {
     "name": "stdout",
     "output_type": "stream",
     "text": [
      "Encoder Layer 4\n"
     ]
    },
    {
     "data": {
      "image/png": "[encoded data removed]",
      "text/plain": [
       "<Figure size 3000x1500 with 4 Axes>"
      ]
     },
     "metadata": {},
     "output_type": "display_data"
    },
    {
     "name": "stdout",
     "output_type": "stream",
     "text": [
      "Encoder Layer 6\n"
     ]
    },
    {
     "data": {
      "image/png": "[encoded data removed]",
      "text/plain": [
       "<Figure size 3000x1500 with 4 Axes>"
      ]
     },
     "metadata": {},
     "output_type": "display_data"
    }
   ],
   "source": [
    "sent = SRC.preprocess(sentence)\n",
    "\n",
    "for layer in range(1, 6, 2):\n",
    "    fig, axs = plt.subplots(1,4, figsize=(30, 15))\n",
    "    print(\"Encoder Layer\", layer+1)\n",
    "    for h in range(4):\n",
    "        draw(model.encoder.layers[layer].attn.attn[0, h].data.cpu(),\n",
    "            sent, sent if h ==0 else [], ax=axs[h])\n",
    "    plt.show()"
   ]
  },
  {
   "cell_type": "markdown",
   "id": "b0e3eb33",
   "metadata": {
    "id": "0M4_pHeqNkr1",
    "papermill": {
     "duration": 0.054521,
     "end_time": "2025-07-27T18:16:08.104072",
     "exception": false,
     "start_time": "2025-07-27T18:16:08.049551",
     "status": "completed"
    },
    "tags": []
   },
   "source": [
    "# Visualize Decoder\n",
    "Ở decoder, các bạn có 2 loại visualization\n",
    "* self attention: giá trị attention khi mô hình decoder mã hóa câu đích lúc dịch\n",
    "* src attention: giá trị attention khi mô hình decoder sử dụng câu src"
   ]
  },
  {
   "cell_type": "code",
   "execution_count": 39,
   "id": "d07d02a4",
   "metadata": {
    "colab": {
     "base_uri": "https://localhost:8080/",
     "height": 2280
    },
    "execution": {
     "iopub.execute_input": "2025-07-27T18:16:08.213958Z",
     "iopub.status.busy": "2025-07-27T18:16:08.213168Z",
     "iopub.status.idle": "2025-07-27T18:16:13.617072Z",
     "shell.execute_reply": "2025-07-27T18:16:13.616254Z"
    },
    "id": "miQbM9X9-FD7",
    "outputId": "36fd4cb6-f811-4352-edd3-a8d6ce0648f7",
    "papermill": {
     "duration": 5.460565,
     "end_time": "2025-07-27T18:16:13.618390",
     "exception": false,
     "start_time": "2025-07-27T18:16:08.157825",
     "status": "completed"
    },
    "tags": []
   },
   "outputs": [
    {
     "name": "stdout",
     "output_type": "stream",
     "text": [
      "Decoder Self Layer 2\n"
     ]
    },
    {
     "data": {
      "image/png": "[encoded data removed]",
      "text/plain": [
       "<Figure size 2000x1000 with 4 Axes>"
      ]
     },
     "metadata": {},
     "output_type": "display_data"
    },
    {
     "name": "stdout",
     "output_type": "stream",
     "text": [
      "Decoder Src Layer 2\n"
     ]
    },
    {
     "data": {
      "image/png": "[encoded data removed]",
      "text/plain": [
       "<Figure size 2000x1000 with 4 Axes>"
      ]
     },
     "metadata": {},
     "output_type": "display_data"
    },
    {
     "name": "stdout",
     "output_type": "stream",
     "text": [
      "Decoder Self Layer 4\n"
     ]
    },
    {
     "data": {
      "image/png": "[encoded data removed]",
      "text/plain": [
       "<Figure size 2000x1000 with 4 Axes>"
      ]
     },
     "metadata": {},
     "output_type": "display_data"
    },
    {
     "name": "stdout",
     "output_type": "stream",
     "text": [
      "Decoder Src Layer 4\n"
     ]
    },
    {
     "data": {
      "image/png": "[encoded data removed]",
      "text/plain": [
       "<Figure size 2000x1000 with 4 Axes>"
      ]
     },
     "metadata": {},
     "output_type": "display_data"
    },
    {
     "name": "stdout",
     "output_type": "stream",
     "text": [
      "Decoder Self Layer 6\n"
     ]
    },
    {
     "data": {
      "image/png": "[encoded data removed]",
      "text/plain": [
       "<Figure size 2000x1000 with 4 Axes>"
      ]
     },
     "metadata": {},
     "output_type": "display_data"
    },
    {
     "name": "stdout",
     "output_type": "stream",
     "text": [
      "Decoder Src Layer 6\n"
     ]
    },
    {
     "data": {
      "image/png": "[encoded data removed]",
      "text/plain": [
       "<Figure size 2000x1000 with 4 Axes>"
      ]
     },
     "metadata": {},
     "output_type": "display_data"
    }
   ],
   "source": [
    "trg_sent = ['<sos>'] + TRG.preprocess(trans_sent)\n",
    "\n",
    "for layer in range(1, 6, 2):\n",
    "    fig, axs = plt.subplots(1,4, figsize=(20, 10))\n",
    "    print(\"Decoder Self Layer\", layer+1)\n",
    "    for h in range(4):\n",
    "        draw(model.decoder.layers[layer].attn_1.attn[0, h].data[:len(trg_sent), :len(trg_sent)].cpu(),\n",
    "            trg_sent, trg_sent if h ==0 else [], ax=axs[h])\n",
    "    plt.show()\n",
    "    print(\"Decoder Src Layer\", layer+1)\n",
    "    fig, axs = plt.subplots(1,4, figsize=(20, 10))\n",
    "    for h in range(4):\n",
    "        draw(model.decoder.layers[layer].attn_2.attn[0, h].data[:len(trg_sent), :len(sent)].cpu(),\n",
    "            sent, trg_sent if h ==0 else [], ax=axs[h])\n",
    "    plt.show()"
   ]
  },
  {
   "cell_type": "code",
   "execution_count": null,
   "id": "dbf2136e",
   "metadata": {
    "id": "s_-5cGJYKiUq",
    "papermill": {
     "duration": 0.058646,
     "end_time": "2025-07-27T18:16:13.739042",
     "exception": false,
     "start_time": "2025-07-27T18:16:13.680396",
     "status": "completed"
    },
    "tags": []
   },
   "outputs": [],
   "source": []
  }
 ],
 "metadata": {
  "accelerator": "GPU",
  "colab": {
   "name": "transformer.ipynb",
   "provenance": []
  },
  "kernelspec": {
   "display_name": "Python 3",
   "language": "python",
   "name": "python3"
  },
  "language_info": {
   "codemirror_mode": {
    "name": "ipython",
    "version": 3
   },
   "file_extension": ".py",
   "mimetype": "text/x-python",
   "name": "python",
   "nbconvert_exporter": "python",
   "pygments_lexer": "ipython3",
   "version": "3.11.13"
  },
  "papermill": {
   "default_parameters": {},
   "duration": 14696.31461,
   "end_time": "2025-07-27T18:16:16.526841",
   "environment_variables": {},
   "exception": null,
   "input_path": "__notebook__.ipynb",
   "output_path": "__notebook__.ipynb",
   "parameters": {},
   "start_time": "2025-07-27T14:11:20.212231",
   "version": "2.6.0"
  }
 },
 "nbformat": 4,
 "nbformat_minor": 5
}
